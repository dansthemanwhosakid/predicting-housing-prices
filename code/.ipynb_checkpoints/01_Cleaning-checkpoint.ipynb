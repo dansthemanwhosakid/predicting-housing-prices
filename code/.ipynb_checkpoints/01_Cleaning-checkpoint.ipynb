{
 "cells": [
  {
   "cell_type": "markdown",
   "metadata": {},
   "source": [
    "# Project 2: Ames Housing Data - Cleaning"
   ]
  },
  {
   "cell_type": "markdown",
   "metadata": {},
   "source": [
    "## Problem Statement:"
   ]
  },
  {
   "cell_type": "markdown",
   "metadata": {},
   "source": [
    "**According to the Ames, Iowa housing data, which regression model can most accurately predict a house's price? As a result, why should millenials choose to live in Ames based on the most important housing features determined by the optimal regression model?** \n",
    "\n",
    "[The Ames Iowa Housing Data](http://jse.amstat.org/v19n3/decock/DataDocumentation.txt) contains 81 housing variables that were used in computing assessed values for individual residential properties sold from 2006 to 2010. I will be using various regression models, such as Linear Regression, LassoCV, and RidgeCV, to determine which model most accurately fits the data by comparing RMSE and $R^2$ scores.\n",
    "\n",
    "Furthermore, I believe Ames is a prime location for millenials based on the regression coefficients as well as many other factors.\n",
    "\n",
    "![info](../images/trulia.png)\n",
    "[(Source: Trulia)](https://www.trulia.com/real_estate/Ames-Iowa/)\n",
    "\n",
    "[According to Trulia](https://www.trulia.com/real_estate/Ames-Iowa/), Ames Real Estate Market Overview states the following: the median homeowner is 31, around 44% of individuals are single, the median household income is around \\\\$56,000, and 67\\% are college educated.\n",
    "\n",
    "[Wikipedia](https://en.wikipedia.org/wiki/Ames,_Iowa) also mentions how Ames had a population of 66,498 in 2017, and Iowa State University is home to 36,321 students (Fall 2017), which make up approximately one half of the city's population. Based on the demographics and cheaper than the [mean](https://www.zillow.com/home-values/) (\\\\$226,300) housing prices, Ames is a location where millenials should settle down in while also taking advantage of the housing market.\n",
    "\n",
    "\n",
    "## Data Dictionary:\n",
    "\n",
    "Please click the [following](http://jse.amstat.org/v19n3/decock/DataDocumentation.txt) for the Data Dictionary.\n"
   ]
  },
  {
   "cell_type": "code",
   "execution_count": 1,
   "metadata": {},
   "outputs": [],
   "source": [
    "import pandas as pd\n",
    "import numpy as np\n",
    "import matplotlib.pyplot as plt\n",
    "import seaborn as sns \n",
    "from scipy import stats\n",
    "import statsmodels.api as sm\n",
    "from IPython.display import Image\n",
    "from IPython.core.display import HTML \n",
    "\n",
    "DO = '#7D1B7E' #for color\n",
    "np.random.seed(3_0_0)\n",
    "\n",
    "%config InlineBackend.figure_format = 'retina'\n",
    "%matplotlib inline\n",
    "\n",
    "plt.style.use('fivethirtyeight')"
   ]
  },
  {
   "cell_type": "markdown",
   "metadata": {},
   "source": [
    "## Data Exploratory Analysis:"
   ]
  },
  {
   "cell_type": "code",
   "execution_count": 2,
   "metadata": {},
   "outputs": [],
   "source": [
    "train_df = pd.read_csv('../datasets/train.csv')"
   ]
  },
  {
   "cell_type": "code",
   "execution_count": 3,
   "metadata": {},
   "outputs": [
    {
     "data": {
      "text/plain": [
       "(2051, 81)"
      ]
     },
     "execution_count": 3,
     "metadata": {},
     "output_type": "execute_result"
    }
   ],
   "source": [
    "train_df.shape"
   ]
  },
  {
   "cell_type": "markdown",
   "metadata": {},
   "source": [
    "The dataset contains 80 variables and 1 target variable, which is the sales price of a house denoted as \"SalesPrice\". One of the issues with the dataset is the collinearity between a several independent variables."
   ]
  },
  {
   "cell_type": "code",
   "execution_count": 4,
   "metadata": {},
   "outputs": [
    {
     "data": {
      "text/html": [
       "<div>\n",
       "<style scoped>\n",
       "    .dataframe tbody tr th:only-of-type {\n",
       "        vertical-align: middle;\n",
       "    }\n",
       "\n",
       "    .dataframe tbody tr th {\n",
       "        vertical-align: top;\n",
       "    }\n",
       "\n",
       "    .dataframe thead th {\n",
       "        text-align: right;\n",
       "    }\n",
       "</style>\n",
       "<table border=\"1\" class=\"dataframe\">\n",
       "  <thead>\n",
       "    <tr style=\"text-align: right;\">\n",
       "      <th></th>\n",
       "      <th>Id</th>\n",
       "      <th>PID</th>\n",
       "      <th>MS SubClass</th>\n",
       "      <th>MS Zoning</th>\n",
       "      <th>Lot Frontage</th>\n",
       "      <th>Lot Area</th>\n",
       "      <th>Street</th>\n",
       "      <th>Alley</th>\n",
       "      <th>Lot Shape</th>\n",
       "      <th>Land Contour</th>\n",
       "      <th>...</th>\n",
       "      <th>Screen Porch</th>\n",
       "      <th>Pool Area</th>\n",
       "      <th>Pool QC</th>\n",
       "      <th>Fence</th>\n",
       "      <th>Misc Feature</th>\n",
       "      <th>Misc Val</th>\n",
       "      <th>Mo Sold</th>\n",
       "      <th>Yr Sold</th>\n",
       "      <th>Sale Type</th>\n",
       "      <th>SalePrice</th>\n",
       "    </tr>\n",
       "  </thead>\n",
       "  <tbody>\n",
       "    <tr>\n",
       "      <th>0</th>\n",
       "      <td>109</td>\n",
       "      <td>533352170</td>\n",
       "      <td>60</td>\n",
       "      <td>RL</td>\n",
       "      <td>NaN</td>\n",
       "      <td>13517</td>\n",
       "      <td>Pave</td>\n",
       "      <td>NaN</td>\n",
       "      <td>IR1</td>\n",
       "      <td>Lvl</td>\n",
       "      <td>...</td>\n",
       "      <td>0</td>\n",
       "      <td>0</td>\n",
       "      <td>NaN</td>\n",
       "      <td>NaN</td>\n",
       "      <td>NaN</td>\n",
       "      <td>0</td>\n",
       "      <td>3</td>\n",
       "      <td>2010</td>\n",
       "      <td>WD</td>\n",
       "      <td>130500</td>\n",
       "    </tr>\n",
       "    <tr>\n",
       "      <th>1</th>\n",
       "      <td>544</td>\n",
       "      <td>531379050</td>\n",
       "      <td>60</td>\n",
       "      <td>RL</td>\n",
       "      <td>43.0</td>\n",
       "      <td>11492</td>\n",
       "      <td>Pave</td>\n",
       "      <td>NaN</td>\n",
       "      <td>IR1</td>\n",
       "      <td>Lvl</td>\n",
       "      <td>...</td>\n",
       "      <td>0</td>\n",
       "      <td>0</td>\n",
       "      <td>NaN</td>\n",
       "      <td>NaN</td>\n",
       "      <td>NaN</td>\n",
       "      <td>0</td>\n",
       "      <td>4</td>\n",
       "      <td>2009</td>\n",
       "      <td>WD</td>\n",
       "      <td>220000</td>\n",
       "    </tr>\n",
       "    <tr>\n",
       "      <th>2</th>\n",
       "      <td>153</td>\n",
       "      <td>535304180</td>\n",
       "      <td>20</td>\n",
       "      <td>RL</td>\n",
       "      <td>68.0</td>\n",
       "      <td>7922</td>\n",
       "      <td>Pave</td>\n",
       "      <td>NaN</td>\n",
       "      <td>Reg</td>\n",
       "      <td>Lvl</td>\n",
       "      <td>...</td>\n",
       "      <td>0</td>\n",
       "      <td>0</td>\n",
       "      <td>NaN</td>\n",
       "      <td>NaN</td>\n",
       "      <td>NaN</td>\n",
       "      <td>0</td>\n",
       "      <td>1</td>\n",
       "      <td>2010</td>\n",
       "      <td>WD</td>\n",
       "      <td>109000</td>\n",
       "    </tr>\n",
       "    <tr>\n",
       "      <th>3</th>\n",
       "      <td>318</td>\n",
       "      <td>916386060</td>\n",
       "      <td>60</td>\n",
       "      <td>RL</td>\n",
       "      <td>73.0</td>\n",
       "      <td>9802</td>\n",
       "      <td>Pave</td>\n",
       "      <td>NaN</td>\n",
       "      <td>Reg</td>\n",
       "      <td>Lvl</td>\n",
       "      <td>...</td>\n",
       "      <td>0</td>\n",
       "      <td>0</td>\n",
       "      <td>NaN</td>\n",
       "      <td>NaN</td>\n",
       "      <td>NaN</td>\n",
       "      <td>0</td>\n",
       "      <td>4</td>\n",
       "      <td>2010</td>\n",
       "      <td>WD</td>\n",
       "      <td>174000</td>\n",
       "    </tr>\n",
       "    <tr>\n",
       "      <th>4</th>\n",
       "      <td>255</td>\n",
       "      <td>906425045</td>\n",
       "      <td>50</td>\n",
       "      <td>RL</td>\n",
       "      <td>82.0</td>\n",
       "      <td>14235</td>\n",
       "      <td>Pave</td>\n",
       "      <td>NaN</td>\n",
       "      <td>IR1</td>\n",
       "      <td>Lvl</td>\n",
       "      <td>...</td>\n",
       "      <td>0</td>\n",
       "      <td>0</td>\n",
       "      <td>NaN</td>\n",
       "      <td>NaN</td>\n",
       "      <td>NaN</td>\n",
       "      <td>0</td>\n",
       "      <td>3</td>\n",
       "      <td>2010</td>\n",
       "      <td>WD</td>\n",
       "      <td>138500</td>\n",
       "    </tr>\n",
       "  </tbody>\n",
       "</table>\n",
       "<p>5 rows × 81 columns</p>\n",
       "</div>"
      ],
      "text/plain": [
       "    Id        PID  MS SubClass MS Zoning  Lot Frontage  Lot Area Street Alley  \\\n",
       "0  109  533352170           60        RL           NaN     13517   Pave   NaN   \n",
       "1  544  531379050           60        RL          43.0     11492   Pave   NaN   \n",
       "2  153  535304180           20        RL          68.0      7922   Pave   NaN   \n",
       "3  318  916386060           60        RL          73.0      9802   Pave   NaN   \n",
       "4  255  906425045           50        RL          82.0     14235   Pave   NaN   \n",
       "\n",
       "  Lot Shape Land Contour  ... Screen Porch Pool Area Pool QC Fence  \\\n",
       "0       IR1          Lvl  ...            0         0     NaN   NaN   \n",
       "1       IR1          Lvl  ...            0         0     NaN   NaN   \n",
       "2       Reg          Lvl  ...            0         0     NaN   NaN   \n",
       "3       Reg          Lvl  ...            0         0     NaN   NaN   \n",
       "4       IR1          Lvl  ...            0         0     NaN   NaN   \n",
       "\n",
       "  Misc Feature Misc Val Mo Sold Yr Sold  Sale Type  SalePrice  \n",
       "0          NaN        0       3    2010        WD      130500  \n",
       "1          NaN        0       4    2009        WD      220000  \n",
       "2          NaN        0       1    2010        WD      109000  \n",
       "3          NaN        0       4    2010        WD      174000  \n",
       "4          NaN        0       3    2010        WD      138500  \n",
       "\n",
       "[5 rows x 81 columns]"
      ]
     },
     "execution_count": 4,
     "metadata": {},
     "output_type": "execute_result"
    }
   ],
   "source": [
    "train_df.head()"
   ]
  },
  {
   "cell_type": "markdown",
   "metadata": {},
   "source": [
    "The column names should not have spaces in them, so as a pythonista, I am going to replace the spaces with underscores."
   ]
  },
  {
   "cell_type": "code",
   "execution_count": 5,
   "metadata": {},
   "outputs": [],
   "source": [
    "train_df.columns = [name.replace(' ','_') for name in train_df.columns]"
   ]
  },
  {
   "cell_type": "markdown",
   "metadata": {},
   "source": [
    "At a glance, the first two variables, Id and PID, both appear to be unique identifiers for each house, so I will check if they are in fact unique. The PID is for parcel review, so I will remove this column. Identifier columns have no effect on the SalesPrice."
   ]
  },
  {
   "cell_type": "code",
   "execution_count": 6,
   "metadata": {},
   "outputs": [
    {
     "name": "stdout",
     "output_type": "stream",
     "text": [
      "-0.2550518985277239\n",
      "-0.051397849884676196\n"
     ]
    }
   ],
   "source": [
    "print(train_df['SalePrice'].corr(train_df['PID']))\n",
    "print(train_df['SalePrice'].corr(train_df['Id']))"
   ]
  },
  {
   "cell_type": "code",
   "execution_count": 7,
   "metadata": {},
   "outputs": [
    {
     "data": {
      "image/png": "[encoded data removed]",
      "text/plain": [
       "<Figure size 1440x504 with 1 Axes>"
      ]
     },
     "metadata": {
      "image/png": {
       "height": 459,
       "width": 1346
      },
      "needs_background": "light"
     },
     "output_type": "display_data"
    }
   ],
   "source": [
    "plt.figure(figsize=(20,7))\n",
    "plt.scatter(train_df['PID'], train_df['SalePrice'], c = DO);\n",
    "\n",
    "plt.title('PID vs SalePrice', fontsize = 25);\n",
    "plt.ylabel('SalePrice', fontsize = 19);\n",
    "plt.xlabel('PID', fontsize = 19);\n",
    "plt.yticks(fontsize=14);\n",
    "plt.xticks(fontsize=14);"
   ]
  },
  {
   "cell_type": "code",
   "execution_count": 8,
   "metadata": {},
   "outputs": [
    {
     "data": {
      "image/png": "[encoded data removed]",
      "text/plain": [
       "<Figure size 1440x504 with 1 Axes>"
      ]
     },
     "metadata": {
      "image/png": {
       "height": 459,
       "width": 1346
      },
      "needs_background": "light"
     },
     "output_type": "display_data"
    }
   ],
   "source": [
    "plt.figure(figsize=(20,7))\n",
    "plt.scatter(train_df['Id'], train_df['SalePrice'], c = DO);\n",
    "\n",
    "plt.title('Id vs SalePrice', fontsize = 25);\n",
    "plt.ylabel('SalePrice', fontsize = 19);\n",
    "plt.xlabel('Id', fontsize = 19);\n",
    "plt.yticks(fontsize=14);\n",
    "plt.xticks(fontsize=14);"
   ]
  },
  {
   "cell_type": "code",
   "execution_count": 9,
   "metadata": {},
   "outputs": [
    {
     "name": "stdout",
     "output_type": "stream",
     "text": [
      "2051\n",
      "2051\n"
     ]
    }
   ],
   "source": [
    "print(train_df['Id'].value_counts().sum())\n",
    "print(train_df['PID'].value_counts().sum())"
   ]
  },
  {
   "cell_type": "markdown",
   "metadata": {},
   "source": [
    "The correlation between the SalePrice and PID is -0.25, and the correlation between Saleprice and Id is -0.05. And there are 2051 unique identification numbers for each of the columns. I will drop the columns."
   ]
  },
  {
   "cell_type": "code",
   "execution_count": 10,
   "metadata": {},
   "outputs": [],
   "source": [
    "train_df.drop(['PID','Id'], axis = 1, inplace=True)"
   ]
  },
  {
   "cell_type": "code",
   "execution_count": 11,
   "metadata": {},
   "outputs": [
    {
     "data": {
      "text/plain": [
       "object     42\n",
       "int64      26\n",
       "float64    11\n",
       "dtype: int64"
      ]
     },
     "execution_count": 11,
     "metadata": {},
     "output_type": "execute_result"
    }
   ],
   "source": [
    "train_df.dtypes.sort_values().value_counts()"
   ]
  },
  {
   "cell_type": "markdown",
   "metadata": {},
   "source": [
    "There are 42 object variables, which presumably have string type values, 26 integer variables, which may be ordinal or categorical, and 11 float variables, which are continuous."
   ]
  },
  {
   "cell_type": "code",
   "execution_count": 12,
   "metadata": {
    "scrolled": true
   },
   "outputs": [
    {
     "data": {
      "text/plain": [
       "Index(['1st_Flr_SF', '2nd_Flr_SF', '3Ssn_Porch', 'Alley', 'Bedroom_AbvGr',\n",
       "       'Bldg_Type', 'BsmtFin_SF_1', 'BsmtFin_SF_2', 'BsmtFin_Type_1',\n",
       "       'BsmtFin_Type_2', 'Bsmt_Cond', 'Bsmt_Exposure', 'Bsmt_Full_Bath',\n",
       "       'Bsmt_Half_Bath', 'Bsmt_Qual', 'Bsmt_Unf_SF', 'Central_Air',\n",
       "       'Condition_1', 'Condition_2', 'Electrical', 'Enclosed_Porch',\n",
       "       'Exter_Cond', 'Exter_Qual', 'Exterior_1st', 'Exterior_2nd', 'Fence',\n",
       "       'Fireplace_Qu', 'Fireplaces', 'Foundation', 'Full_Bath', 'Functional',\n",
       "       'Garage_Area', 'Garage_Cars', 'Garage_Cond', 'Garage_Finish',\n",
       "       'Garage_Qual', 'Garage_Type', 'Garage_Yr_Blt', 'Gr_Liv_Area',\n",
       "       'Half_Bath', 'Heating', 'Heating_QC', 'House_Style', 'Kitchen_AbvGr',\n",
       "       'Kitchen_Qual', 'Land_Contour', 'Land_Slope', 'Lot_Area', 'Lot_Config',\n",
       "       'Lot_Frontage', 'Lot_Shape', 'Low_Qual_Fin_SF', 'MS_SubClass',\n",
       "       'MS_Zoning', 'Mas_Vnr_Area', 'Mas_Vnr_Type', 'Misc_Feature', 'Misc_Val',\n",
       "       'Mo_Sold', 'Neighborhood', 'Open_Porch_SF', 'Overall_Cond',\n",
       "       'Overall_Qual', 'Paved_Drive', 'Pool_Area', 'Pool_QC', 'Roof_Matl',\n",
       "       'Roof_Style', 'SalePrice', 'Sale_Type', 'Screen_Porch', 'Street',\n",
       "       'TotRms_AbvGrd', 'Total_Bsmt_SF', 'Utilities', 'Wood_Deck_SF',\n",
       "       'Year_Built', 'Year_Remod/Add', 'Yr_Sold'],\n",
       "      dtype='object')"
      ]
     },
     "execution_count": 12,
     "metadata": {},
     "output_type": "execute_result"
    }
   ],
   "source": [
    "train_df.columns.sort_values()"
   ]
  },
  {
   "cell_type": "markdown",
   "metadata": {},
   "source": [
    "There might be an issue with collinearity between a few predictor variables due to some varibles providing information about the same aspect of the house.<br><br>\n",
    "For example:\n",
    "\n",
    "- Basement Variables:\n",
    "    - Bsmt Cond, Bsmt Exposure, Bsmt Full Bath, Bsmt Half Bath, Bsmt Qual, Bsmt Unf SF, BsmtFin SF 1, BsmtFin SF 2, BsmtFin Type 1, BsmtFin Type 2\n",
    "    \n",
    "    \n",
    "- Garage Variables:\n",
    "    - Garage Area, Garage Cars, Garage Cond, Garage Finish, Garage Qual, Garage Type, Garage Yr Blt\n",
    "    \n",
    "    \n",
    "- Square Feet Variables:\n",
    "    - 1st Flr SF, 2nd Flr SF, Bsmt Unf SF, BsmtFin SF 1, BsmtFin SF 2, Low Qual Fin SF, Open Porch SF, Total Bsmt SF, Wood Deck SF\n",
    "\n",
    "\n",
    "## Removing Null Values\n",
    "\n",
    "I am now going to look for any null values in each column which is a predictor variable, and decide whether to drop the values or impute the nulls as 0's,the median, or the mean.\n",
    "\n",
    "The function, null_checker(), prints predictor variables and their number of null values and creates a null_mask dictionary that has null masks for predictor variables. "
   ]
  },
  {
   "cell_type": "code",
   "execution_count": 13,
   "metadata": {
    "scrolled": false
   },
   "outputs": [],
   "source": [
    "def null_checker():\n",
    "    null_vals = train_df.isnull().sum().sort_values(ascending=False)\n",
    "    \n",
    "    null_in_col=[]\n",
    "    null_dict = {}\n",
    "    for pos in range(len(null_vals)):\n",
    "        if null_vals[pos] > 0:\n",
    "            name = null_vals.index[pos]\n",
    "            print(f'{name}: {null_vals[pos]}')\n",
    "            null_in_col.append(null_vals.index[pos])\n",
    "            null_dict[null_vals.index[pos]+'_mask'] = train_df[null_vals.index[pos]].isnull()\n",
    "    \n",
    "    if len(null_in_col) > 1:\n",
    "        print(f'\\nThere are {len(null_in_col)} predictor variables with null values.')\n",
    "    elif len(null_in_col) == 1:\n",
    "        print(f'\\nThere is {len(null_in_col)} predictor variable with null values.')\n",
    "    elif len(null_in_col) == 0:\n",
    "        print('There are no null values in your dataset. Hooray!')\n",
    "        \n",
    "    return null_dict"
   ]
  },
  {
   "cell_type": "code",
   "execution_count": 14,
   "metadata": {
    "scrolled": false
   },
   "outputs": [
    {
     "name": "stdout",
     "output_type": "stream",
     "text": [
      "Pool_QC: 2042\n",
      "Misc_Feature: 1986\n",
      "Alley: 1911\n",
      "Fence: 1651\n",
      "Fireplace_Qu: 1000\n",
      "Lot_Frontage: 330\n",
      "Garage_Qual: 114\n",
      "Garage_Cond: 114\n",
      "Garage_Yr_Blt: 114\n",
      "Garage_Finish: 114\n",
      "Garage_Type: 113\n",
      "Bsmt_Exposure: 58\n",
      "BsmtFin_Type_2: 56\n",
      "Bsmt_Qual: 55\n",
      "BsmtFin_Type_1: 55\n",
      "Bsmt_Cond: 55\n",
      "Mas_Vnr_Type: 22\n",
      "Mas_Vnr_Area: 22\n",
      "Bsmt_Half_Bath: 2\n",
      "Bsmt_Full_Bath: 2\n",
      "Bsmt_Unf_SF: 1\n",
      "Total_Bsmt_SF: 1\n",
      "BsmtFin_SF_1: 1\n",
      "BsmtFin_SF_2: 1\n",
      "Garage_Cars: 1\n",
      "Garage_Area: 1\n",
      "\n",
      "There are 26 predictor variables with null values.\n"
     ]
    }
   ],
   "source": [
    "null_mask = null_checker()"
   ]
  },
  {
   "cell_type": "markdown",
   "metadata": {},
   "source": [
    "Starting with the predictor variable that has the lowest number of null values, I will examine each variable's null values and determine how to deal with them."
   ]
  },
  {
   "cell_type": "markdown",
   "metadata": {},
   "source": [
    "**Removing Garage Nulls**"
   ]
  },
  {
   "cell_type": "code",
   "execution_count": 15,
   "metadata": {},
   "outputs": [],
   "source": [
    "garage_cols = list(train_df.iloc[:,train_df.columns.str.contains('Garage')].columns)"
   ]
  },
  {
   "cell_type": "code",
   "execution_count": 16,
   "metadata": {},
   "outputs": [
    {
     "data": {
      "text/html": [
       "<div>\n",
       "<style scoped>\n",
       "    .dataframe tbody tr th:only-of-type {\n",
       "        vertical-align: middle;\n",
       "    }\n",
       "\n",
       "    .dataframe tbody tr th {\n",
       "        vertical-align: top;\n",
       "    }\n",
       "\n",
       "    .dataframe thead th {\n",
       "        text-align: right;\n",
       "    }\n",
       "</style>\n",
       "<table border=\"1\" class=\"dataframe\">\n",
       "  <thead>\n",
       "    <tr style=\"text-align: right;\">\n",
       "      <th></th>\n",
       "      <th>Garage_Type</th>\n",
       "      <th>Garage_Yr_Blt</th>\n",
       "      <th>Garage_Finish</th>\n",
       "      <th>Garage_Cars</th>\n",
       "      <th>Garage_Area</th>\n",
       "      <th>Garage_Qual</th>\n",
       "      <th>Garage_Cond</th>\n",
       "    </tr>\n",
       "  </thead>\n",
       "  <tbody>\n",
       "    <tr>\n",
       "      <th>1712</th>\n",
       "      <td>Detchd</td>\n",
       "      <td>NaN</td>\n",
       "      <td>NaN</td>\n",
       "      <td>NaN</td>\n",
       "      <td>NaN</td>\n",
       "      <td>NaN</td>\n",
       "      <td>NaN</td>\n",
       "    </tr>\n",
       "  </tbody>\n",
       "</table>\n",
       "</div>"
      ],
      "text/plain": [
       "     Garage_Type  Garage_Yr_Blt Garage_Finish  Garage_Cars  Garage_Area  \\\n",
       "1712      Detchd            NaN           NaN          NaN          NaN   \n",
       "\n",
       "     Garage_Qual Garage_Cond  \n",
       "1712         NaN         NaN  "
      ]
     },
     "execution_count": 16,
     "metadata": {},
     "output_type": "execute_result"
    }
   ],
   "source": [
    "train_df[null_mask['Garage_Area_mask']][garage_cols]"
   ]
  },
  {
   "cell_type": "code",
   "execution_count": 17,
   "metadata": {
    "scrolled": true
   },
   "outputs": [
    {
     "data": {
      "text/html": [
       "<div>\n",
       "<style scoped>\n",
       "    .dataframe tbody tr th:only-of-type {\n",
       "        vertical-align: middle;\n",
       "    }\n",
       "\n",
       "    .dataframe tbody tr th {\n",
       "        vertical-align: top;\n",
       "    }\n",
       "\n",
       "    .dataframe thead th {\n",
       "        text-align: right;\n",
       "    }\n",
       "</style>\n",
       "<table border=\"1\" class=\"dataframe\">\n",
       "  <thead>\n",
       "    <tr style=\"text-align: right;\">\n",
       "      <th></th>\n",
       "      <th>Garage_Type</th>\n",
       "      <th>Garage_Yr_Blt</th>\n",
       "      <th>Garage_Finish</th>\n",
       "      <th>Garage_Cars</th>\n",
       "      <th>Garage_Area</th>\n",
       "      <th>Garage_Qual</th>\n",
       "      <th>Garage_Cond</th>\n",
       "    </tr>\n",
       "  </thead>\n",
       "  <tbody>\n",
       "    <tr>\n",
       "      <th>1712</th>\n",
       "      <td>Detchd</td>\n",
       "      <td>NaN</td>\n",
       "      <td>NaN</td>\n",
       "      <td>NaN</td>\n",
       "      <td>NaN</td>\n",
       "      <td>NaN</td>\n",
       "      <td>NaN</td>\n",
       "    </tr>\n",
       "  </tbody>\n",
       "</table>\n",
       "</div>"
      ],
      "text/plain": [
       "     Garage_Type  Garage_Yr_Blt Garage_Finish  Garage_Cars  Garage_Area  \\\n",
       "1712      Detchd            NaN           NaN          NaN          NaN   \n",
       "\n",
       "     Garage_Qual Garage_Cond  \n",
       "1712         NaN         NaN  "
      ]
     },
     "execution_count": 17,
     "metadata": {},
     "output_type": "execute_result"
    }
   ],
   "source": [
    "train_df[null_mask['Garage_Cars_mask']][garage_cols]"
   ]
  },
  {
   "cell_type": "markdown",
   "metadata": {},
   "source": [
    "House 1712 has null values for two continuous variables, Garage Area and Garage Cars. Based on the data dictionary, null values for Garage Cond, Garage Qual, and Garage Finish, incidicate that a house does not have a garage.\n",
    "\n",
    "As a result, I'm going to replace both Garage Area and Garage Cars values to 0 because House 1712 does not have a garage. Furthermore, the Garage Type should not be 'Detchd' because it doesn't exist. The value will be replaced as a null value for now. "
   ]
  },
  {
   "cell_type": "code",
   "execution_count": 18,
   "metadata": {},
   "outputs": [],
   "source": [
    "train_df.at[1712, 'Garage_Area'] = 0\n",
    "train_df.at[1712, 'Garage_Cars'] = 0\n",
    "train_df.at[1712, 'Garage_Type'] = None"
   ]
  },
  {
   "cell_type": "markdown",
   "metadata": {},
   "source": [
    "**Removing Basement Nulls**"
   ]
  },
  {
   "cell_type": "code",
   "execution_count": 19,
   "metadata": {},
   "outputs": [
    {
     "name": "stdout",
     "output_type": "stream",
     "text": [
      "Pool_QC: 2042\n",
      "Misc_Feature: 1986\n",
      "Alley: 1911\n",
      "Fence: 1651\n",
      "Fireplace_Qu: 1000\n",
      "Lot_Frontage: 330\n",
      "Garage_Cond: 114\n",
      "Garage_Qual: 114\n",
      "Garage_Type: 114\n",
      "Garage_Yr_Blt: 114\n",
      "Garage_Finish: 114\n",
      "Bsmt_Exposure: 58\n",
      "BsmtFin_Type_2: 56\n",
      "Bsmt_Qual: 55\n",
      "Bsmt_Cond: 55\n",
      "BsmtFin_Type_1: 55\n",
      "Mas_Vnr_Area: 22\n",
      "Mas_Vnr_Type: 22\n",
      "Bsmt_Half_Bath: 2\n",
      "Bsmt_Full_Bath: 2\n",
      "Total_Bsmt_SF: 1\n",
      "Bsmt_Unf_SF: 1\n",
      "BsmtFin_SF_2: 1\n",
      "BsmtFin_SF_1: 1\n",
      "\n",
      "There are 24 predictor variables with null values.\n"
     ]
    }
   ],
   "source": [
    "null_mask = null_checker()"
   ]
  },
  {
   "cell_type": "code",
   "execution_count": 20,
   "metadata": {},
   "outputs": [],
   "source": [
    "basement_cols = list(train_df.iloc[:,train_df.columns.str.contains('Bsmt')].columns)"
   ]
  },
  {
   "cell_type": "code",
   "execution_count": 21,
   "metadata": {
    "scrolled": true
   },
   "outputs": [
    {
     "data": {
      "text/html": [
       "<div>\n",
       "<style scoped>\n",
       "    .dataframe tbody tr th:only-of-type {\n",
       "        vertical-align: middle;\n",
       "    }\n",
       "\n",
       "    .dataframe tbody tr th {\n",
       "        vertical-align: top;\n",
       "    }\n",
       "\n",
       "    .dataframe thead th {\n",
       "        text-align: right;\n",
       "    }\n",
       "</style>\n",
       "<table border=\"1\" class=\"dataframe\">\n",
       "  <thead>\n",
       "    <tr style=\"text-align: right;\">\n",
       "      <th></th>\n",
       "      <th>Bsmt_Qual</th>\n",
       "      <th>Bsmt_Cond</th>\n",
       "      <th>Bsmt_Exposure</th>\n",
       "      <th>BsmtFin_Type_1</th>\n",
       "      <th>BsmtFin_SF_1</th>\n",
       "      <th>BsmtFin_Type_2</th>\n",
       "      <th>BsmtFin_SF_2</th>\n",
       "      <th>Bsmt_Unf_SF</th>\n",
       "      <th>Total_Bsmt_SF</th>\n",
       "      <th>Bsmt_Full_Bath</th>\n",
       "      <th>Bsmt_Half_Bath</th>\n",
       "    </tr>\n",
       "  </thead>\n",
       "  <tbody>\n",
       "    <tr>\n",
       "      <th>1327</th>\n",
       "      <td>NaN</td>\n",
       "      <td>NaN</td>\n",
       "      <td>NaN</td>\n",
       "      <td>NaN</td>\n",
       "      <td>NaN</td>\n",
       "      <td>NaN</td>\n",
       "      <td>NaN</td>\n",
       "      <td>NaN</td>\n",
       "      <td>NaN</td>\n",
       "      <td>NaN</td>\n",
       "      <td>NaN</td>\n",
       "    </tr>\n",
       "  </tbody>\n",
       "</table>\n",
       "</div>"
      ],
      "text/plain": [
       "     Bsmt_Qual Bsmt_Cond Bsmt_Exposure BsmtFin_Type_1  BsmtFin_SF_1  \\\n",
       "1327       NaN       NaN           NaN            NaN           NaN   \n",
       "\n",
       "     BsmtFin_Type_2  BsmtFin_SF_2  Bsmt_Unf_SF  Total_Bsmt_SF  Bsmt_Full_Bath  \\\n",
       "1327            NaN           NaN          NaN            NaN             NaN   \n",
       "\n",
       "      Bsmt_Half_Bath  \n",
       "1327             NaN  "
      ]
     },
     "execution_count": 21,
     "metadata": {},
     "output_type": "execute_result"
    }
   ],
   "source": [
    "single_basement_nulls_mask = null_mask['BsmtFin_SF_1_mask'] & null_mask['BsmtFin_SF_2_mask'] &null_mask['Bsmt_Unf_SF_mask'] &null_mask['Total_Bsmt_SF_mask']\n",
    "train_df[single_basement_nulls_mask][basement_cols]\n"
   ]
  },
  {
   "cell_type": "code",
   "execution_count": 22,
   "metadata": {},
   "outputs": [
    {
     "data": {
      "text/plain": [
       "['BsmtFin_SF_1',\n",
       " 'BsmtFin_SF_2',\n",
       " 'Bsmt_Unf_SF',\n",
       " 'Total_Bsmt_SF',\n",
       " 'Bsmt_Full_Bath',\n",
       " 'Bsmt_Half_Bath']"
      ]
     },
     "execution_count": 22,
     "metadata": {},
     "output_type": "execute_result"
    }
   ],
   "source": [
    "basement_float_list = list(train_df[basement_cols].select_dtypes(float).columns)\n",
    "basement_float_list"
   ]
  },
  {
   "cell_type": "markdown",
   "metadata": {},
   "source": [
    "House 1327 has null values for all basement related variables, which means that there is no basement. Thus, I will replace all basement float variables to 0. "
   ]
  },
  {
   "cell_type": "code",
   "execution_count": 23,
   "metadata": {},
   "outputs": [],
   "source": [
    "for float_variable in basement_float_list:\n",
    "    train_df.at[1327,float_variable] = 0"
   ]
  },
  {
   "cell_type": "code",
   "execution_count": 24,
   "metadata": {},
   "outputs": [
    {
     "name": "stdout",
     "output_type": "stream",
     "text": [
      "Pool_QC: 2042\n",
      "Misc_Feature: 1986\n",
      "Alley: 1911\n",
      "Fence: 1651\n",
      "Fireplace_Qu: 1000\n",
      "Lot_Frontage: 330\n",
      "Garage_Cond: 114\n",
      "Garage_Type: 114\n",
      "Garage_Yr_Blt: 114\n",
      "Garage_Finish: 114\n",
      "Garage_Qual: 114\n",
      "Bsmt_Exposure: 58\n",
      "BsmtFin_Type_2: 56\n",
      "Bsmt_Cond: 55\n",
      "Bsmt_Qual: 55\n",
      "BsmtFin_Type_1: 55\n",
      "Mas_Vnr_Area: 22\n",
      "Mas_Vnr_Type: 22\n",
      "Bsmt_Full_Bath: 1\n",
      "Bsmt_Half_Bath: 1\n",
      "\n",
      "There are 20 predictor variables with null values.\n"
     ]
    }
   ],
   "source": [
    "null_mask = null_checker()"
   ]
  },
  {
   "cell_type": "code",
   "execution_count": 25,
   "metadata": {
    "scrolled": true
   },
   "outputs": [
    {
     "data": {
      "text/html": [
       "<div>\n",
       "<style scoped>\n",
       "    .dataframe tbody tr th:only-of-type {\n",
       "        vertical-align: middle;\n",
       "    }\n",
       "\n",
       "    .dataframe tbody tr th {\n",
       "        vertical-align: top;\n",
       "    }\n",
       "\n",
       "    .dataframe thead th {\n",
       "        text-align: right;\n",
       "    }\n",
       "</style>\n",
       "<table border=\"1\" class=\"dataframe\">\n",
       "  <thead>\n",
       "    <tr style=\"text-align: right;\">\n",
       "      <th></th>\n",
       "      <th>Bsmt_Qual</th>\n",
       "      <th>Bsmt_Cond</th>\n",
       "      <th>Bsmt_Exposure</th>\n",
       "      <th>BsmtFin_Type_1</th>\n",
       "      <th>BsmtFin_SF_1</th>\n",
       "      <th>BsmtFin_Type_2</th>\n",
       "      <th>BsmtFin_SF_2</th>\n",
       "      <th>Bsmt_Unf_SF</th>\n",
       "      <th>Total_Bsmt_SF</th>\n",
       "      <th>Bsmt_Full_Bath</th>\n",
       "      <th>Bsmt_Half_Bath</th>\n",
       "    </tr>\n",
       "  </thead>\n",
       "  <tbody>\n",
       "    <tr>\n",
       "      <th>616</th>\n",
       "      <td>NaN</td>\n",
       "      <td>NaN</td>\n",
       "      <td>NaN</td>\n",
       "      <td>NaN</td>\n",
       "      <td>0.0</td>\n",
       "      <td>NaN</td>\n",
       "      <td>0.0</td>\n",
       "      <td>0.0</td>\n",
       "      <td>0.0</td>\n",
       "      <td>NaN</td>\n",
       "      <td>NaN</td>\n",
       "    </tr>\n",
       "  </tbody>\n",
       "</table>\n",
       "</div>"
      ],
      "text/plain": [
       "    Bsmt_Qual Bsmt_Cond Bsmt_Exposure BsmtFin_Type_1  BsmtFin_SF_1  \\\n",
       "616       NaN       NaN           NaN            NaN           0.0   \n",
       "\n",
       "    BsmtFin_Type_2  BsmtFin_SF_2  Bsmt_Unf_SF  Total_Bsmt_SF  Bsmt_Full_Bath  \\\n",
       "616            NaN           0.0          0.0            0.0             NaN   \n",
       "\n",
       "     Bsmt_Half_Bath  \n",
       "616             NaN  "
      ]
     },
     "execution_count": 25,
     "metadata": {},
     "output_type": "execute_result"
    }
   ],
   "source": [
    "train_df[null_mask['Bsmt_Half_Bath_mask'] & null_mask['Bsmt_Full_Bath_mask']][basement_cols]"
   ]
  },
  {
   "cell_type": "markdown",
   "metadata": {},
   "source": [
    "House 616 has null values for all basement related variables, which means that there is no basement. Thus, I will replace all basement float variables to 0. "
   ]
  },
  {
   "cell_type": "code",
   "execution_count": 26,
   "metadata": {},
   "outputs": [],
   "source": [
    "for float_variable in basement_float_list:\n",
    "    train_df.at[616,float_variable] = 0"
   ]
  },
  {
   "cell_type": "code",
   "execution_count": 27,
   "metadata": {},
   "outputs": [
    {
     "name": "stdout",
     "output_type": "stream",
     "text": [
      "Pool_QC: 2042\n",
      "Misc_Feature: 1986\n",
      "Alley: 1911\n",
      "Fence: 1651\n",
      "Fireplace_Qu: 1000\n",
      "Lot_Frontage: 330\n",
      "Garage_Type: 114\n",
      "Garage_Finish: 114\n",
      "Garage_Qual: 114\n",
      "Garage_Cond: 114\n",
      "Garage_Yr_Blt: 114\n",
      "Bsmt_Exposure: 58\n",
      "BsmtFin_Type_2: 56\n",
      "Bsmt_Cond: 55\n",
      "BsmtFin_Type_1: 55\n",
      "Bsmt_Qual: 55\n",
      "Mas_Vnr_Area: 22\n",
      "Mas_Vnr_Type: 22\n",
      "\n",
      "There are 18 predictor variables with null values.\n"
     ]
    }
   ],
   "source": [
    "null_mask = null_checker()"
   ]
  },
  {
   "cell_type": "markdown",
   "metadata": {},
   "source": [
    "I am now going to look at ordinal basement variables that have null values."
   ]
  },
  {
   "cell_type": "code",
   "execution_count": 28,
   "metadata": {},
   "outputs": [],
   "source": [
    "ordinal_basement_nulls_mask = null_mask['Bsmt_Exposure_mask'] & null_mask['BsmtFin_Type_2_mask'] &null_mask['Bsmt_Cond_mask'] &null_mask['BsmtFin_Type_1_mask'] & null_mask['Bsmt_Qual_mask']\n"
   ]
  },
  {
   "cell_type": "code",
   "execution_count": 29,
   "metadata": {},
   "outputs": [
    {
     "data": {
      "text/html": [
       "<div>\n",
       "<style scoped>\n",
       "    .dataframe tbody tr th:only-of-type {\n",
       "        vertical-align: middle;\n",
       "    }\n",
       "\n",
       "    .dataframe tbody tr th {\n",
       "        vertical-align: top;\n",
       "    }\n",
       "\n",
       "    .dataframe thead th {\n",
       "        text-align: right;\n",
       "    }\n",
       "</style>\n",
       "<table border=\"1\" class=\"dataframe\">\n",
       "  <thead>\n",
       "    <tr style=\"text-align: right;\">\n",
       "      <th></th>\n",
       "      <th>Bsmt_Qual</th>\n",
       "      <th>Bsmt_Cond</th>\n",
       "      <th>Bsmt_Exposure</th>\n",
       "      <th>BsmtFin_Type_1</th>\n",
       "      <th>BsmtFin_SF_1</th>\n",
       "      <th>BsmtFin_Type_2</th>\n",
       "      <th>BsmtFin_SF_2</th>\n",
       "      <th>Bsmt_Unf_SF</th>\n",
       "      <th>Total_Bsmt_SF</th>\n",
       "      <th>Bsmt_Full_Bath</th>\n",
       "      <th>Bsmt_Half_Bath</th>\n",
       "    </tr>\n",
       "  </thead>\n",
       "  <tbody>\n",
       "    <tr>\n",
       "      <th>12</th>\n",
       "      <td>NaN</td>\n",
       "      <td>NaN</td>\n",
       "      <td>NaN</td>\n",
       "      <td>NaN</td>\n",
       "      <td>0.0</td>\n",
       "      <td>NaN</td>\n",
       "      <td>0.0</td>\n",
       "      <td>0.0</td>\n",
       "      <td>0.0</td>\n",
       "      <td>0.0</td>\n",
       "      <td>0.0</td>\n",
       "    </tr>\n",
       "    <tr>\n",
       "      <th>93</th>\n",
       "      <td>NaN</td>\n",
       "      <td>NaN</td>\n",
       "      <td>NaN</td>\n",
       "      <td>NaN</td>\n",
       "      <td>0.0</td>\n",
       "      <td>NaN</td>\n",
       "      <td>0.0</td>\n",
       "      <td>0.0</td>\n",
       "      <td>0.0</td>\n",
       "      <td>0.0</td>\n",
       "      <td>0.0</td>\n",
       "    </tr>\n",
       "    <tr>\n",
       "      <th>114</th>\n",
       "      <td>NaN</td>\n",
       "      <td>NaN</td>\n",
       "      <td>NaN</td>\n",
       "      <td>NaN</td>\n",
       "      <td>0.0</td>\n",
       "      <td>NaN</td>\n",
       "      <td>0.0</td>\n",
       "      <td>0.0</td>\n",
       "      <td>0.0</td>\n",
       "      <td>0.0</td>\n",
       "      <td>0.0</td>\n",
       "    </tr>\n",
       "    <tr>\n",
       "      <th>146</th>\n",
       "      <td>NaN</td>\n",
       "      <td>NaN</td>\n",
       "      <td>NaN</td>\n",
       "      <td>NaN</td>\n",
       "      <td>0.0</td>\n",
       "      <td>NaN</td>\n",
       "      <td>0.0</td>\n",
       "      <td>0.0</td>\n",
       "      <td>0.0</td>\n",
       "      <td>0.0</td>\n",
       "      <td>0.0</td>\n",
       "    </tr>\n",
       "    <tr>\n",
       "      <th>183</th>\n",
       "      <td>NaN</td>\n",
       "      <td>NaN</td>\n",
       "      <td>NaN</td>\n",
       "      <td>NaN</td>\n",
       "      <td>0.0</td>\n",
       "      <td>NaN</td>\n",
       "      <td>0.0</td>\n",
       "      <td>0.0</td>\n",
       "      <td>0.0</td>\n",
       "      <td>0.0</td>\n",
       "      <td>0.0</td>\n",
       "    </tr>\n",
       "  </tbody>\n",
       "</table>\n",
       "</div>"
      ],
      "text/plain": [
       "    Bsmt_Qual Bsmt_Cond Bsmt_Exposure BsmtFin_Type_1  BsmtFin_SF_1  \\\n",
       "12        NaN       NaN           NaN            NaN           0.0   \n",
       "93        NaN       NaN           NaN            NaN           0.0   \n",
       "114       NaN       NaN           NaN            NaN           0.0   \n",
       "146       NaN       NaN           NaN            NaN           0.0   \n",
       "183       NaN       NaN           NaN            NaN           0.0   \n",
       "\n",
       "    BsmtFin_Type_2  BsmtFin_SF_2  Bsmt_Unf_SF  Total_Bsmt_SF  Bsmt_Full_Bath  \\\n",
       "12             NaN           0.0          0.0            0.0             0.0   \n",
       "93             NaN           0.0          0.0            0.0             0.0   \n",
       "114            NaN           0.0          0.0            0.0             0.0   \n",
       "146            NaN           0.0          0.0            0.0             0.0   \n",
       "183            NaN           0.0          0.0            0.0             0.0   \n",
       "\n",
       "     Bsmt_Half_Bath  \n",
       "12              0.0  \n",
       "93              0.0  \n",
       "114             0.0  \n",
       "146             0.0  \n",
       "183             0.0  "
      ]
     },
     "execution_count": 29,
     "metadata": {},
     "output_type": "execute_result"
    }
   ],
   "source": [
    "train_df[ordinal_basement_nulls_mask][basement_cols].head()"
   ]
  },
  {
   "cell_type": "code",
   "execution_count": 30,
   "metadata": {},
   "outputs": [
    {
     "data": {
      "text/plain": [
       "55"
      ]
     },
     "execution_count": 30,
     "metadata": {},
     "output_type": "execute_result"
    }
   ],
   "source": [
    "len(train_df[ordinal_basement_nulls_mask][basement_cols])"
   ]
  },
  {
   "cell_type": "markdown",
   "metadata": {},
   "source": [
    "There are 55 houses that have 0's or null values for all basement related variables. As a result, I will replace all ordinal null variables to 'NA' to match the data dictionary's way of marking houses that have no basements."
   ]
  },
  {
   "cell_type": "code",
   "execution_count": 31,
   "metadata": {},
   "outputs": [
    {
     "data": {
      "text/plain": [
       "['Bsmt_Qual', 'Bsmt_Cond', 'Bsmt_Exposure', 'BsmtFin_Type_1', 'BsmtFin_Type_2']"
      ]
     },
     "execution_count": 31,
     "metadata": {},
     "output_type": "execute_result"
    }
   ],
   "source": [
    "basement_ordinal_list = list(train_df[basement_cols].select_dtypes(object).columns)\n",
    "basement_ordinal_list"
   ]
  },
  {
   "cell_type": "code",
   "execution_count": 32,
   "metadata": {},
   "outputs": [],
   "source": [
    "for house in train_df[ordinal_basement_nulls_mask][basement_cols].index:\n",
    "    for ordinal_variable in basement_ordinal_list:\n",
    "        train_df.at[house,ordinal_variable] = 'NA'"
   ]
  },
  {
   "cell_type": "code",
   "execution_count": 33,
   "metadata": {},
   "outputs": [
    {
     "name": "stdout",
     "output_type": "stream",
     "text": [
      "Pool_QC: 2042\n",
      "Misc_Feature: 1986\n",
      "Alley: 1911\n",
      "Fence: 1651\n",
      "Fireplace_Qu: 1000\n",
      "Lot_Frontage: 330\n",
      "Garage_Finish: 114\n",
      "Garage_Type: 114\n",
      "Garage_Yr_Blt: 114\n",
      "Garage_Cond: 114\n",
      "Garage_Qual: 114\n",
      "Mas_Vnr_Area: 22\n",
      "Mas_Vnr_Type: 22\n",
      "Bsmt_Exposure: 3\n",
      "BsmtFin_Type_2: 1\n",
      "\n",
      "There are 15 predictor variables with null values.\n"
     ]
    }
   ],
   "source": [
    "null_mask = null_checker()"
   ]
  },
  {
   "cell_type": "code",
   "execution_count": 34,
   "metadata": {},
   "outputs": [
    {
     "data": {
      "text/html": [
       "<div>\n",
       "<style scoped>\n",
       "    .dataframe tbody tr th:only-of-type {\n",
       "        vertical-align: middle;\n",
       "    }\n",
       "\n",
       "    .dataframe tbody tr th {\n",
       "        vertical-align: top;\n",
       "    }\n",
       "\n",
       "    .dataframe thead th {\n",
       "        text-align: right;\n",
       "    }\n",
       "</style>\n",
       "<table border=\"1\" class=\"dataframe\">\n",
       "  <thead>\n",
       "    <tr style=\"text-align: right;\">\n",
       "      <th></th>\n",
       "      <th>Bsmt_Qual</th>\n",
       "      <th>Bsmt_Cond</th>\n",
       "      <th>Bsmt_Exposure</th>\n",
       "      <th>BsmtFin_Type_1</th>\n",
       "      <th>BsmtFin_SF_1</th>\n",
       "      <th>BsmtFin_Type_2</th>\n",
       "      <th>BsmtFin_SF_2</th>\n",
       "      <th>Bsmt_Unf_SF</th>\n",
       "      <th>Total_Bsmt_SF</th>\n",
       "      <th>Bsmt_Full_Bath</th>\n",
       "      <th>Bsmt_Half_Bath</th>\n",
       "    </tr>\n",
       "  </thead>\n",
       "  <tbody>\n",
       "    <tr>\n",
       "      <th>1147</th>\n",
       "      <td>Gd</td>\n",
       "      <td>TA</td>\n",
       "      <td>No</td>\n",
       "      <td>GLQ</td>\n",
       "      <td>1124.0</td>\n",
       "      <td>NaN</td>\n",
       "      <td>479.0</td>\n",
       "      <td>1603.0</td>\n",
       "      <td>3206.0</td>\n",
       "      <td>1.0</td>\n",
       "      <td>0.0</td>\n",
       "    </tr>\n",
       "  </tbody>\n",
       "</table>\n",
       "</div>"
      ],
      "text/plain": [
       "     Bsmt_Qual Bsmt_Cond Bsmt_Exposure BsmtFin_Type_1  BsmtFin_SF_1  \\\n",
       "1147        Gd        TA            No            GLQ        1124.0   \n",
       "\n",
       "     BsmtFin_Type_2  BsmtFin_SF_2  Bsmt_Unf_SF  Total_Bsmt_SF  Bsmt_Full_Bath  \\\n",
       "1147            NaN         479.0       1603.0         3206.0             1.0   \n",
       "\n",
       "      Bsmt_Half_Bath  \n",
       "1147             0.0  "
      ]
     },
     "execution_count": 34,
     "metadata": {},
     "output_type": "execute_result"
    }
   ],
   "source": [
    "train_df[null_mask['BsmtFin_Type_2_mask']][basement_cols]"
   ]
  },
  {
   "cell_type": "markdown",
   "metadata": {},
   "source": [
    "There is a bit of an issue because house 1147 has a Type 2 finished basement of 479 square feet, but it is not possible to indicate what the Basement Finish type 2 rating should be. It appears that there are several rating options for BsmtFin_Type_2:"
   ]
  },
  {
   "cell_type": "code",
   "execution_count": 35,
   "metadata": {},
   "outputs": [
    {
     "data": {
      "text/plain": [
       "Unf    1749\n",
       "Rec      80\n",
       "LwQ      60\n",
       "NA       55\n",
       "BLQ      48\n",
       "ALQ      35\n",
       "GLQ      23\n",
       "Name: BsmtFin_Type_2, dtype: int64"
      ]
     },
     "execution_count": 35,
     "metadata": {},
     "output_type": "execute_result"
    }
   ],
   "source": [
    "train_df['BsmtFin_Type_2'].value_counts()"
   ]
  },
  {
   "cell_type": "markdown",
   "metadata": {},
   "source": [
    "I will impute the mean, which is ALQ (Average Living Quarters) for house 1147."
   ]
  },
  {
   "cell_type": "code",
   "execution_count": 36,
   "metadata": {},
   "outputs": [],
   "source": [
    "train_df.at[1147,'BsmtFin_Type_2'] = 'ALQ'"
   ]
  },
  {
   "cell_type": "code",
   "execution_count": 37,
   "metadata": {
    "scrolled": true
   },
   "outputs": [
    {
     "data": {
      "text/html": [
       "<div>\n",
       "<style scoped>\n",
       "    .dataframe tbody tr th:only-of-type {\n",
       "        vertical-align: middle;\n",
       "    }\n",
       "\n",
       "    .dataframe tbody tr th {\n",
       "        vertical-align: top;\n",
       "    }\n",
       "\n",
       "    .dataframe thead th {\n",
       "        text-align: right;\n",
       "    }\n",
       "</style>\n",
       "<table border=\"1\" class=\"dataframe\">\n",
       "  <thead>\n",
       "    <tr style=\"text-align: right;\">\n",
       "      <th></th>\n",
       "      <th>Bsmt_Qual</th>\n",
       "      <th>Bsmt_Cond</th>\n",
       "      <th>Bsmt_Exposure</th>\n",
       "      <th>BsmtFin_Type_1</th>\n",
       "      <th>BsmtFin_SF_1</th>\n",
       "      <th>BsmtFin_Type_2</th>\n",
       "      <th>BsmtFin_SF_2</th>\n",
       "      <th>Bsmt_Unf_SF</th>\n",
       "      <th>Total_Bsmt_SF</th>\n",
       "      <th>Bsmt_Full_Bath</th>\n",
       "      <th>Bsmt_Half_Bath</th>\n",
       "    </tr>\n",
       "  </thead>\n",
       "  <tbody>\n",
       "    <tr>\n",
       "      <th>1456</th>\n",
       "      <td>Gd</td>\n",
       "      <td>TA</td>\n",
       "      <td>NaN</td>\n",
       "      <td>Unf</td>\n",
       "      <td>0.0</td>\n",
       "      <td>Unf</td>\n",
       "      <td>0.0</td>\n",
       "      <td>725.0</td>\n",
       "      <td>725.0</td>\n",
       "      <td>0.0</td>\n",
       "      <td>0.0</td>\n",
       "    </tr>\n",
       "    <tr>\n",
       "      <th>1547</th>\n",
       "      <td>Gd</td>\n",
       "      <td>TA</td>\n",
       "      <td>NaN</td>\n",
       "      <td>Unf</td>\n",
       "      <td>0.0</td>\n",
       "      <td>Unf</td>\n",
       "      <td>0.0</td>\n",
       "      <td>1595.0</td>\n",
       "      <td>1595.0</td>\n",
       "      <td>0.0</td>\n",
       "      <td>0.0</td>\n",
       "    </tr>\n",
       "    <tr>\n",
       "      <th>1997</th>\n",
       "      <td>Gd</td>\n",
       "      <td>TA</td>\n",
       "      <td>NaN</td>\n",
       "      <td>Unf</td>\n",
       "      <td>0.0</td>\n",
       "      <td>Unf</td>\n",
       "      <td>0.0</td>\n",
       "      <td>936.0</td>\n",
       "      <td>936.0</td>\n",
       "      <td>0.0</td>\n",
       "      <td>0.0</td>\n",
       "    </tr>\n",
       "  </tbody>\n",
       "</table>\n",
       "</div>"
      ],
      "text/plain": [
       "     Bsmt_Qual Bsmt_Cond Bsmt_Exposure BsmtFin_Type_1  BsmtFin_SF_1  \\\n",
       "1456        Gd        TA           NaN            Unf           0.0   \n",
       "1547        Gd        TA           NaN            Unf           0.0   \n",
       "1997        Gd        TA           NaN            Unf           0.0   \n",
       "\n",
       "     BsmtFin_Type_2  BsmtFin_SF_2  Bsmt_Unf_SF  Total_Bsmt_SF  Bsmt_Full_Bath  \\\n",
       "1456            Unf           0.0        725.0          725.0             0.0   \n",
       "1547            Unf           0.0       1595.0         1595.0             0.0   \n",
       "1997            Unf           0.0        936.0          936.0             0.0   \n",
       "\n",
       "      Bsmt_Half_Bath  \n",
       "1456             0.0  \n",
       "1547             0.0  \n",
       "1997             0.0  "
      ]
     },
     "execution_count": 37,
     "metadata": {},
     "output_type": "execute_result"
    }
   ],
   "source": [
    "train_df[null_mask['Bsmt_Exposure_mask']][basement_cols]"
   ]
  },
  {
   "cell_type": "markdown",
   "metadata": {},
   "source": [
    "For all three houses, their total unfinished square footage equals their total basement square footage. The options for Basement Exposure are:"
   ]
  },
  {
   "cell_type": "code",
   "execution_count": 38,
   "metadata": {},
   "outputs": [
    {
     "data": {
      "text/plain": [
       "No    1339\n",
       "Av     288\n",
       "Gd     203\n",
       "Mn     163\n",
       "NA      55\n",
       "Name: Bsmt_Exposure, dtype: int64"
      ]
     },
     "execution_count": 38,
     "metadata": {},
     "output_type": "execute_result"
    }
   ],
   "source": [
    "train_df['Bsmt_Exposure'].value_counts()"
   ]
  },
  {
   "cell_type": "markdown",
   "metadata": {},
   "source": [
    "I will replace the null Bsmt_Exposure values to 'No', which stands for 'no exposure' as the basements exist but have not been finished yet."
   ]
  },
  {
   "cell_type": "code",
   "execution_count": 39,
   "metadata": {},
   "outputs": [],
   "source": [
    "for house in train_df[null_mask['Bsmt_Exposure_mask']][basement_cols].index:\n",
    "    train_df.at[house,'Bsmt_Exposure'] = 'No'"
   ]
  },
  {
   "cell_type": "markdown",
   "metadata": {},
   "source": [
    "**Removing Masonry Veneer Nulls**"
   ]
  },
  {
   "cell_type": "code",
   "execution_count": 40,
   "metadata": {
    "scrolled": true
   },
   "outputs": [
    {
     "name": "stdout",
     "output_type": "stream",
     "text": [
      "Pool_QC: 2042\n",
      "Misc_Feature: 1986\n",
      "Alley: 1911\n",
      "Fence: 1651\n",
      "Fireplace_Qu: 1000\n",
      "Lot_Frontage: 330\n",
      "Garage_Type: 114\n",
      "Garage_Yr_Blt: 114\n",
      "Garage_Finish: 114\n",
      "Garage_Cond: 114\n",
      "Garage_Qual: 114\n",
      "Mas_Vnr_Area: 22\n",
      "Mas_Vnr_Type: 22\n",
      "\n",
      "There are 13 predictor variables with null values.\n"
     ]
    }
   ],
   "source": [
    "null_mask = null_checker()"
   ]
  },
  {
   "cell_type": "code",
   "execution_count": 41,
   "metadata": {},
   "outputs": [
    {
     "data": {
      "text/plain": [
       "22"
      ]
     },
     "execution_count": 41,
     "metadata": {},
     "output_type": "execute_result"
    }
   ],
   "source": [
    "len(train_df[null_mask['Mas_Vnr_Area_mask']&null_mask['Mas_Vnr_Type_mask']][['Mas_Vnr_Area','Mas_Vnr_Type']])"
   ]
  },
  {
   "cell_type": "code",
   "execution_count": 42,
   "metadata": {},
   "outputs": [
    {
     "data": {
      "text/plain": [
       "array(['BrkFace', 'None', nan, 'Stone', 'BrkCmn'], dtype=object)"
      ]
     },
     "execution_count": 42,
     "metadata": {},
     "output_type": "execute_result"
    }
   ],
   "source": [
    "train_df['Mas_Vnr_Type'].unique()"
   ]
  },
  {
   "cell_type": "markdown",
   "metadata": {},
   "source": [
    "There are 22 homes that have null values in both Masonry veneer type and Masonry veneer area. Since both variables are null, these homes do not have masonry veneers. \n",
    "\n",
    "The nominal variable Mas_Vnr_Type null values will be replaced by 'None' and the continuous variable Mas_Vnr_Area will be replaced by 0."
   ]
  },
  {
   "cell_type": "code",
   "execution_count": 43,
   "metadata": {},
   "outputs": [],
   "source": [
    "no_masonry_houses = train_df[null_mask['Mas_Vnr_Area_mask']&null_mask['Mas_Vnr_Type_mask']][['Mas_Vnr_Area','Mas_Vnr_Type']].index\n",
    "\n",
    "for house in no_masonry_houses:\n",
    "    train_df.at[house,'Mas_Vnr_Type'] = 'None'\n",
    "    train_df.at[house,'Mas_Vnr_Area'] = 0"
   ]
  },
  {
   "cell_type": "markdown",
   "metadata": {},
   "source": [
    "**Removing Garage Nulls**"
   ]
  },
  {
   "cell_type": "code",
   "execution_count": 44,
   "metadata": {},
   "outputs": [
    {
     "name": "stdout",
     "output_type": "stream",
     "text": [
      "Pool_QC: 2042\n",
      "Misc_Feature: 1986\n",
      "Alley: 1911\n",
      "Fence: 1651\n",
      "Fireplace_Qu: 1000\n",
      "Lot_Frontage: 330\n",
      "Garage_Type: 114\n",
      "Garage_Cond: 114\n",
      "Garage_Finish: 114\n",
      "Garage_Yr_Blt: 114\n",
      "Garage_Qual: 114\n",
      "\n",
      "There are 11 predictor variables with null values.\n"
     ]
    }
   ],
   "source": [
    "null_mask = null_checker()"
   ]
  },
  {
   "cell_type": "code",
   "execution_count": 45,
   "metadata": {},
   "outputs": [],
   "source": [
    "garage_nulls_mask = null_mask['Garage_Type_mask'] & null_mask['Garage_Cond_mask'] &null_mask['Garage_Finish_mask'] &null_mask['Garage_Yr_Blt_mask'] & null_mask['Garage_Qual_mask']\n"
   ]
  },
  {
   "cell_type": "code",
   "execution_count": 46,
   "metadata": {},
   "outputs": [],
   "source": [
    "garage_cols = list(train_df.iloc[:,train_df.columns.str.contains('Garage')].columns)"
   ]
  },
  {
   "cell_type": "code",
   "execution_count": 47,
   "metadata": {},
   "outputs": [
    {
     "data": {
      "text/html": [
       "<div>\n",
       "<style scoped>\n",
       "    .dataframe tbody tr th:only-of-type {\n",
       "        vertical-align: middle;\n",
       "    }\n",
       "\n",
       "    .dataframe tbody tr th {\n",
       "        vertical-align: top;\n",
       "    }\n",
       "\n",
       "    .dataframe thead th {\n",
       "        text-align: right;\n",
       "    }\n",
       "</style>\n",
       "<table border=\"1\" class=\"dataframe\">\n",
       "  <thead>\n",
       "    <tr style=\"text-align: right;\">\n",
       "      <th></th>\n",
       "      <th>Garage_Type</th>\n",
       "      <th>Garage_Yr_Blt</th>\n",
       "      <th>Garage_Finish</th>\n",
       "      <th>Garage_Cars</th>\n",
       "      <th>Garage_Area</th>\n",
       "      <th>Garage_Qual</th>\n",
       "      <th>Garage_Cond</th>\n",
       "    </tr>\n",
       "  </thead>\n",
       "  <tbody>\n",
       "    <tr>\n",
       "      <th>28</th>\n",
       "      <td>NaN</td>\n",
       "      <td>NaN</td>\n",
       "      <td>NaN</td>\n",
       "      <td>0.0</td>\n",
       "      <td>0.0</td>\n",
       "      <td>NaN</td>\n",
       "      <td>NaN</td>\n",
       "    </tr>\n",
       "    <tr>\n",
       "      <th>53</th>\n",
       "      <td>NaN</td>\n",
       "      <td>NaN</td>\n",
       "      <td>NaN</td>\n",
       "      <td>0.0</td>\n",
       "      <td>0.0</td>\n",
       "      <td>NaN</td>\n",
       "      <td>NaN</td>\n",
       "    </tr>\n",
       "    <tr>\n",
       "      <th>65</th>\n",
       "      <td>NaN</td>\n",
       "      <td>NaN</td>\n",
       "      <td>NaN</td>\n",
       "      <td>0.0</td>\n",
       "      <td>0.0</td>\n",
       "      <td>NaN</td>\n",
       "      <td>NaN</td>\n",
       "    </tr>\n",
       "    <tr>\n",
       "      <th>79</th>\n",
       "      <td>NaN</td>\n",
       "      <td>NaN</td>\n",
       "      <td>NaN</td>\n",
       "      <td>0.0</td>\n",
       "      <td>0.0</td>\n",
       "      <td>NaN</td>\n",
       "      <td>NaN</td>\n",
       "    </tr>\n",
       "    <tr>\n",
       "      <th>101</th>\n",
       "      <td>NaN</td>\n",
       "      <td>NaN</td>\n",
       "      <td>NaN</td>\n",
       "      <td>0.0</td>\n",
       "      <td>0.0</td>\n",
       "      <td>NaN</td>\n",
       "      <td>NaN</td>\n",
       "    </tr>\n",
       "  </tbody>\n",
       "</table>\n",
       "</div>"
      ],
      "text/plain": [
       "    Garage_Type  Garage_Yr_Blt Garage_Finish  Garage_Cars  Garage_Area  \\\n",
       "28          NaN            NaN           NaN          0.0          0.0   \n",
       "53          NaN            NaN           NaN          0.0          0.0   \n",
       "65          NaN            NaN           NaN          0.0          0.0   \n",
       "79          NaN            NaN           NaN          0.0          0.0   \n",
       "101         NaN            NaN           NaN          0.0          0.0   \n",
       "\n",
       "    Garage_Qual Garage_Cond  \n",
       "28          NaN         NaN  \n",
       "53          NaN         NaN  \n",
       "65          NaN         NaN  \n",
       "79          NaN         NaN  \n",
       "101         NaN         NaN  "
      ]
     },
     "execution_count": 47,
     "metadata": {},
     "output_type": "execute_result"
    }
   ],
   "source": [
    "train_df[garage_nulls_mask][garage_cols].head()"
   ]
  },
  {
   "cell_type": "code",
   "execution_count": 48,
   "metadata": {},
   "outputs": [
    {
     "data": {
      "text/plain": [
       "114"
      ]
     },
     "execution_count": 48,
     "metadata": {},
     "output_type": "execute_result"
    }
   ],
   "source": [
    "len(train_df[garage_nulls_mask][garage_cols])"
   ]
  },
  {
   "cell_type": "code",
   "execution_count": 49,
   "metadata": {},
   "outputs": [
    {
     "data": {
      "text/plain": [
       "114"
      ]
     },
     "execution_count": 49,
     "metadata": {},
     "output_type": "execute_result"
    }
   ],
   "source": [
    "len(train_df[garage_nulls_mask]['Garage_Area'])"
   ]
  },
  {
   "cell_type": "code",
   "execution_count": 50,
   "metadata": {},
   "outputs": [
    {
     "data": {
      "text/plain": [
       "114"
      ]
     },
     "execution_count": 50,
     "metadata": {},
     "output_type": "execute_result"
    }
   ],
   "source": [
    "len(train_df[garage_nulls_mask]['Garage_Cars'])"
   ]
  },
  {
   "cell_type": "markdown",
   "metadata": {},
   "source": [
    "There are 114 homes that have null values in all of the following: the garage type, condition, quality, finish, and when it was built. Furthermore, all 114 homes have 0 square feet in its Garage Area variable and 0 Garage Capacity. \n",
    "\n",
    "As a result, all nominal variables (Garage_Type, Garage_Finish, Garage_Qual, Garage_Cond) with null values will be replaced by 'NA' which indicates that there is no garage present."
   ]
  },
  {
   "cell_type": "code",
   "execution_count": 51,
   "metadata": {},
   "outputs": [],
   "source": [
    "no_garage_house = train_df[garage_nulls_mask][garage_cols].index"
   ]
  },
  {
   "cell_type": "code",
   "execution_count": 52,
   "metadata": {},
   "outputs": [],
   "source": [
    "null_garage_cols= ['Garage_Type','Garage_Finish','Garage_Qual','Garage_Cond']"
   ]
  },
  {
   "cell_type": "code",
   "execution_count": 53,
   "metadata": {},
   "outputs": [],
   "source": [
    "for house in no_garage_house:\n",
    "    for col in null_garage_cols:\n",
    "        train_df.at[house,col] = 'NA'"
   ]
  },
  {
   "cell_type": "markdown",
   "metadata": {},
   "source": [
    "For the Garage Year Built variable, I am going to see if it is highly correlated with the Year Built variable due to the fact that houses usually come with garages. "
   ]
  },
  {
   "cell_type": "code",
   "execution_count": 54,
   "metadata": {},
   "outputs": [
    {
     "data": {
      "image/png": "[encoded data removed]",
      "text/plain": [
       "<Figure size 1440x504 with 1 Axes>"
      ]
     },
     "metadata": {
      "image/png": {
       "height": 459,
       "width": 1328
      },
      "needs_background": "light"
     },
     "output_type": "display_data"
    }
   ],
   "source": [
    "plt.figure(figsize=(20,7))\n",
    "\n",
    "plt.scatter(train_df['Garage_Yr_Blt'], train_df['Year_Built'], c = DO);\n",
    "plt.plot([1890,2015],[1890,2015], c='red')\n",
    "\n",
    "\n",
    "plt.title('Garage Yr Built vs Year Built', fontsize = 25)\n",
    "plt.ylabel('Year Built', fontsize = 19)\n",
    "plt.xlabel('Garage Year Built', fontsize = 19)\n",
    "plt.yticks(fontsize=14)\n",
    "plt.xticks(fontsize=14)\n",
    "plt.xlim(1890,2015);"
   ]
  },
  {
   "cell_type": "code",
   "execution_count": 55,
   "metadata": {},
   "outputs": [
    {
     "data": {
      "text/plain": [
       "0.8253163760422907"
      ]
     },
     "execution_count": 55,
     "metadata": {},
     "output_type": "execute_result"
    }
   ],
   "source": [
    "train_df['Garage_Yr_Blt'].corr(train_df['Year_Built'])"
   ]
  },
  {
   "cell_type": "markdown",
   "metadata": {},
   "source": [
    "The scatter plot and high positive correlation (0.825) between Garage Yr Built and Year Built show strong signs of a linear relationship between the two. I will drop the Garage Yr Blt column."
   ]
  },
  {
   "cell_type": "code",
   "execution_count": 56,
   "metadata": {},
   "outputs": [],
   "source": [
    "train_df.drop('Garage_Yr_Blt',1, inplace = True)"
   ]
  },
  {
   "cell_type": "markdown",
   "metadata": {},
   "source": [
    "**Removing Lot Frontage Nulls**"
   ]
  },
  {
   "cell_type": "code",
   "execution_count": 57,
   "metadata": {},
   "outputs": [
    {
     "name": "stdout",
     "output_type": "stream",
     "text": [
      "Pool_QC: 2042\n",
      "Misc_Feature: 1986\n",
      "Alley: 1911\n",
      "Fence: 1651\n",
      "Fireplace_Qu: 1000\n",
      "Lot_Frontage: 330\n",
      "\n",
      "There are 6 predictor variables with null values.\n"
     ]
    }
   ],
   "source": [
    "null_mask = null_checker()"
   ]
  },
  {
   "cell_type": "code",
   "execution_count": 58,
   "metadata": {},
   "outputs": [
    {
     "data": {
      "text/plain": [
       "['Lot_Frontage', 'Lot_Area', 'Lot_Shape', 'Lot_Config']"
      ]
     },
     "execution_count": 58,
     "metadata": {},
     "output_type": "execute_result"
    }
   ],
   "source": [
    "lot_columns = basement_cols = list(train_df.iloc[:,train_df.columns.str.contains('Lot')].columns)\n",
    "lot_columns"
   ]
  },
  {
   "cell_type": "code",
   "execution_count": 59,
   "metadata": {},
   "outputs": [
    {
     "data": {
      "text/html": [
       "<div>\n",
       "<style scoped>\n",
       "    .dataframe tbody tr th:only-of-type {\n",
       "        vertical-align: middle;\n",
       "    }\n",
       "\n",
       "    .dataframe tbody tr th {\n",
       "        vertical-align: top;\n",
       "    }\n",
       "\n",
       "    .dataframe thead th {\n",
       "        text-align: right;\n",
       "    }\n",
       "</style>\n",
       "<table border=\"1\" class=\"dataframe\">\n",
       "  <thead>\n",
       "    <tr style=\"text-align: right;\">\n",
       "      <th></th>\n",
       "      <th>Lot_Frontage</th>\n",
       "      <th>Lot_Area</th>\n",
       "      <th>Lot_Shape</th>\n",
       "      <th>Lot_Config</th>\n",
       "    </tr>\n",
       "  </thead>\n",
       "  <tbody>\n",
       "    <tr>\n",
       "      <th>0</th>\n",
       "      <td>NaN</td>\n",
       "      <td>13517</td>\n",
       "      <td>IR1</td>\n",
       "      <td>CulDSac</td>\n",
       "    </tr>\n",
       "    <tr>\n",
       "      <th>7</th>\n",
       "      <td>NaN</td>\n",
       "      <td>12160</td>\n",
       "      <td>IR1</td>\n",
       "      <td>Inside</td>\n",
       "    </tr>\n",
       "    <tr>\n",
       "      <th>8</th>\n",
       "      <td>NaN</td>\n",
       "      <td>15783</td>\n",
       "      <td>Reg</td>\n",
       "      <td>Inside</td>\n",
       "    </tr>\n",
       "    <tr>\n",
       "      <th>23</th>\n",
       "      <td>NaN</td>\n",
       "      <td>7980</td>\n",
       "      <td>IR1</td>\n",
       "      <td>Inside</td>\n",
       "    </tr>\n",
       "    <tr>\n",
       "      <th>27</th>\n",
       "      <td>NaN</td>\n",
       "      <td>11700</td>\n",
       "      <td>IR1</td>\n",
       "      <td>Inside</td>\n",
       "    </tr>\n",
       "  </tbody>\n",
       "</table>\n",
       "</div>"
      ],
      "text/plain": [
       "    Lot_Frontage  Lot_Area Lot_Shape Lot_Config\n",
       "0            NaN     13517       IR1    CulDSac\n",
       "7            NaN     12160       IR1     Inside\n",
       "8            NaN     15783       Reg     Inside\n",
       "23           NaN      7980       IR1     Inside\n",
       "27           NaN     11700       IR1     Inside"
      ]
     },
     "execution_count": 59,
     "metadata": {},
     "output_type": "execute_result"
    }
   ],
   "source": [
    "train_df[null_mask['Lot_Frontage_mask']][lot_columns].head()"
   ]
  },
  {
   "cell_type": "code",
   "execution_count": 60,
   "metadata": {},
   "outputs": [
    {
     "data": {
      "text/plain": [
       "count       330.000000\n",
       "mean      12373.660606\n",
       "std       12102.692705\n",
       "min        1533.000000\n",
       "25%        8127.000000\n",
       "50%       10601.500000\n",
       "75%       12958.250000\n",
       "max      159000.000000\n",
       "Name: Lot_Area, dtype: float64"
      ]
     },
     "execution_count": 60,
     "metadata": {},
     "output_type": "execute_result"
    }
   ],
   "source": [
    "train_df[null_mask['Lot_Frontage_mask']]['Lot_Area'].describe()"
   ]
  },
  {
   "cell_type": "markdown",
   "metadata": {},
   "source": [
    "Each house that has a null Lot Frontage also has a Lot Area associated with it. This means that we cannot simply replace the null values with 0 because each apartment has a lot. \n",
    "\n",
    "Instead, I will replace the null values with the Lot Frontage's mean value. There is only a one foot difference between the mean and median."
   ]
  },
  {
   "cell_type": "code",
   "execution_count": 61,
   "metadata": {
    "scrolled": true
   },
   "outputs": [
    {
     "name": "stdout",
     "output_type": "stream",
     "text": [
      "Lot Frontage Mean: 69.05520046484602\n",
      "Lot Frontage Median: 68.0\n"
     ]
    }
   ],
   "source": [
    "lot_frontage_mean = train_df['Lot_Frontage'].mean()\n",
    "lot_frontage_median = train_df['Lot_Frontage'].median()\n",
    "print(f'Lot Frontage Mean: {lot_frontage_mean}')\n",
    "print(f'Lot Frontage Median: {lot_frontage_median}')"
   ]
  },
  {
   "cell_type": "code",
   "execution_count": 62,
   "metadata": {},
   "outputs": [],
   "source": [
    "no_lot_frontage_house = train_df[null_mask['Lot_Frontage_mask']].index"
   ]
  },
  {
   "cell_type": "code",
   "execution_count": 63,
   "metadata": {},
   "outputs": [],
   "source": [
    "for house in no_lot_frontage_house:\n",
    "    train_df.at[house,'Lot_Frontage'] = lot_frontage_mean"
   ]
  },
  {
   "cell_type": "markdown",
   "metadata": {},
   "source": [
    "**Removing Fireplace Nulls**"
   ]
  },
  {
   "cell_type": "code",
   "execution_count": 64,
   "metadata": {},
   "outputs": [
    {
     "name": "stdout",
     "output_type": "stream",
     "text": [
      "Pool_QC: 2042\n",
      "Misc_Feature: 1986\n",
      "Alley: 1911\n",
      "Fence: 1651\n",
      "Fireplace_Qu: 1000\n",
      "\n",
      "There are 5 predictor variables with null values.\n"
     ]
    }
   ],
   "source": [
    "null_mask = null_checker()"
   ]
  },
  {
   "cell_type": "code",
   "execution_count": 65,
   "metadata": {},
   "outputs": [
    {
     "data": {
      "text/html": [
       "<div>\n",
       "<style scoped>\n",
       "    .dataframe tbody tr th:only-of-type {\n",
       "        vertical-align: middle;\n",
       "    }\n",
       "\n",
       "    .dataframe tbody tr th {\n",
       "        vertical-align: top;\n",
       "    }\n",
       "\n",
       "    .dataframe thead th {\n",
       "        text-align: right;\n",
       "    }\n",
       "</style>\n",
       "<table border=\"1\" class=\"dataframe\">\n",
       "  <thead>\n",
       "    <tr style=\"text-align: right;\">\n",
       "      <th></th>\n",
       "      <th>Fireplace_Qu</th>\n",
       "      <th>Fireplaces</th>\n",
       "    </tr>\n",
       "  </thead>\n",
       "  <tbody>\n",
       "    <tr>\n",
       "      <th>0</th>\n",
       "      <td>NaN</td>\n",
       "      <td>0</td>\n",
       "    </tr>\n",
       "    <tr>\n",
       "      <th>2</th>\n",
       "      <td>NaN</td>\n",
       "      <td>0</td>\n",
       "    </tr>\n",
       "    <tr>\n",
       "      <th>3</th>\n",
       "      <td>NaN</td>\n",
       "      <td>0</td>\n",
       "    </tr>\n",
       "    <tr>\n",
       "      <th>4</th>\n",
       "      <td>NaN</td>\n",
       "      <td>0</td>\n",
       "    </tr>\n",
       "    <tr>\n",
       "      <th>6</th>\n",
       "      <td>NaN</td>\n",
       "      <td>0</td>\n",
       "    </tr>\n",
       "  </tbody>\n",
       "</table>\n",
       "</div>"
      ],
      "text/plain": [
       "  Fireplace_Qu  Fireplaces\n",
       "0          NaN           0\n",
       "2          NaN           0\n",
       "3          NaN           0\n",
       "4          NaN           0\n",
       "6          NaN           0"
      ]
     },
     "execution_count": 65,
     "metadata": {},
     "output_type": "execute_result"
    }
   ],
   "source": [
    "train_df[null_mask['Fireplace_Qu_mask']][['Fireplace_Qu','Fireplaces']].head()"
   ]
  },
  {
   "cell_type": "code",
   "execution_count": 66,
   "metadata": {},
   "outputs": [
    {
     "data": {
      "text/plain": [
       "1000"
      ]
     },
     "execution_count": 66,
     "metadata": {},
     "output_type": "execute_result"
    }
   ],
   "source": [
    "len(train_df[train_df['Fireplaces'] == 0]['Fireplace_Qu'])"
   ]
  },
  {
   "cell_type": "code",
   "execution_count": 67,
   "metadata": {},
   "outputs": [
    {
     "data": {
      "text/plain": [
       "1000"
      ]
     },
     "execution_count": 67,
     "metadata": {},
     "output_type": "execute_result"
    }
   ],
   "source": [
    "len(train_df[null_mask['Fireplace_Qu_mask']]['Fireplaces'])"
   ]
  },
  {
   "cell_type": "markdown",
   "metadata": {},
   "source": [
    "All 1000 houses that do not have fireplaces have null values as their Fireplace Quality values. As a result, all null values will be replaced by 'NA'."
   ]
  },
  {
   "cell_type": "code",
   "execution_count": 68,
   "metadata": {},
   "outputs": [],
   "source": [
    "no_fireplace_houses = train_df[null_mask['Fireplace_Qu_mask']].index\n",
    "\n",
    "for house in no_fireplace_houses:\n",
    "    train_df.at[house,'Fireplace_Qu'] = 'NA'"
   ]
  },
  {
   "cell_type": "markdown",
   "metadata": {},
   "source": [
    "**Removing Fence Nulls**"
   ]
  },
  {
   "cell_type": "code",
   "execution_count": 69,
   "metadata": {
    "scrolled": false
   },
   "outputs": [
    {
     "name": "stdout",
     "output_type": "stream",
     "text": [
      "Pool_QC: 2042\n",
      "Misc_Feature: 1986\n",
      "Alley: 1911\n",
      "Fence: 1651\n",
      "\n",
      "There are 4 predictor variables with null values.\n"
     ]
    }
   ],
   "source": [
    "null_mask = null_checker()"
   ]
  },
  {
   "cell_type": "code",
   "execution_count": 70,
   "metadata": {},
   "outputs": [
    {
     "data": {
      "text/html": [
       "<div>\n",
       "<style scoped>\n",
       "    .dataframe tbody tr th:only-of-type {\n",
       "        vertical-align: middle;\n",
       "    }\n",
       "\n",
       "    .dataframe tbody tr th {\n",
       "        vertical-align: top;\n",
       "    }\n",
       "\n",
       "    .dataframe thead th {\n",
       "        text-align: right;\n",
       "    }\n",
       "</style>\n",
       "<table border=\"1\" class=\"dataframe\">\n",
       "  <thead>\n",
       "    <tr style=\"text-align: right;\">\n",
       "      <th></th>\n",
       "      <th>MS_SubClass</th>\n",
       "      <th>MS_Zoning</th>\n",
       "      <th>Lot_Frontage</th>\n",
       "      <th>Lot_Area</th>\n",
       "      <th>Street</th>\n",
       "      <th>Alley</th>\n",
       "      <th>Lot_Shape</th>\n",
       "      <th>Land_Contour</th>\n",
       "      <th>Utilities</th>\n",
       "      <th>Lot_Config</th>\n",
       "      <th>...</th>\n",
       "      <th>Screen_Porch</th>\n",
       "      <th>Pool_Area</th>\n",
       "      <th>Pool_QC</th>\n",
       "      <th>Fence</th>\n",
       "      <th>Misc_Feature</th>\n",
       "      <th>Misc_Val</th>\n",
       "      <th>Mo_Sold</th>\n",
       "      <th>Yr_Sold</th>\n",
       "      <th>Sale_Type</th>\n",
       "      <th>SalePrice</th>\n",
       "    </tr>\n",
       "  </thead>\n",
       "  <tbody>\n",
       "    <tr>\n",
       "      <th>0</th>\n",
       "      <td>60</td>\n",
       "      <td>RL</td>\n",
       "      <td>69.0552</td>\n",
       "      <td>13517</td>\n",
       "      <td>Pave</td>\n",
       "      <td>NaN</td>\n",
       "      <td>IR1</td>\n",
       "      <td>Lvl</td>\n",
       "      <td>AllPub</td>\n",
       "      <td>CulDSac</td>\n",
       "      <td>...</td>\n",
       "      <td>0</td>\n",
       "      <td>0</td>\n",
       "      <td>NaN</td>\n",
       "      <td>NaN</td>\n",
       "      <td>NaN</td>\n",
       "      <td>0</td>\n",
       "      <td>3</td>\n",
       "      <td>2010</td>\n",
       "      <td>WD</td>\n",
       "      <td>130500</td>\n",
       "    </tr>\n",
       "    <tr>\n",
       "      <th>1</th>\n",
       "      <td>60</td>\n",
       "      <td>RL</td>\n",
       "      <td>43.0000</td>\n",
       "      <td>11492</td>\n",
       "      <td>Pave</td>\n",
       "      <td>NaN</td>\n",
       "      <td>IR1</td>\n",
       "      <td>Lvl</td>\n",
       "      <td>AllPub</td>\n",
       "      <td>CulDSac</td>\n",
       "      <td>...</td>\n",
       "      <td>0</td>\n",
       "      <td>0</td>\n",
       "      <td>NaN</td>\n",
       "      <td>NaN</td>\n",
       "      <td>NaN</td>\n",
       "      <td>0</td>\n",
       "      <td>4</td>\n",
       "      <td>2009</td>\n",
       "      <td>WD</td>\n",
       "      <td>220000</td>\n",
       "    </tr>\n",
       "    <tr>\n",
       "      <th>2</th>\n",
       "      <td>20</td>\n",
       "      <td>RL</td>\n",
       "      <td>68.0000</td>\n",
       "      <td>7922</td>\n",
       "      <td>Pave</td>\n",
       "      <td>NaN</td>\n",
       "      <td>Reg</td>\n",
       "      <td>Lvl</td>\n",
       "      <td>AllPub</td>\n",
       "      <td>Inside</td>\n",
       "      <td>...</td>\n",
       "      <td>0</td>\n",
       "      <td>0</td>\n",
       "      <td>NaN</td>\n",
       "      <td>NaN</td>\n",
       "      <td>NaN</td>\n",
       "      <td>0</td>\n",
       "      <td>1</td>\n",
       "      <td>2010</td>\n",
       "      <td>WD</td>\n",
       "      <td>109000</td>\n",
       "    </tr>\n",
       "    <tr>\n",
       "      <th>3</th>\n",
       "      <td>60</td>\n",
       "      <td>RL</td>\n",
       "      <td>73.0000</td>\n",
       "      <td>9802</td>\n",
       "      <td>Pave</td>\n",
       "      <td>NaN</td>\n",
       "      <td>Reg</td>\n",
       "      <td>Lvl</td>\n",
       "      <td>AllPub</td>\n",
       "      <td>Inside</td>\n",
       "      <td>...</td>\n",
       "      <td>0</td>\n",
       "      <td>0</td>\n",
       "      <td>NaN</td>\n",
       "      <td>NaN</td>\n",
       "      <td>NaN</td>\n",
       "      <td>0</td>\n",
       "      <td>4</td>\n",
       "      <td>2010</td>\n",
       "      <td>WD</td>\n",
       "      <td>174000</td>\n",
       "    </tr>\n",
       "    <tr>\n",
       "      <th>4</th>\n",
       "      <td>50</td>\n",
       "      <td>RL</td>\n",
       "      <td>82.0000</td>\n",
       "      <td>14235</td>\n",
       "      <td>Pave</td>\n",
       "      <td>NaN</td>\n",
       "      <td>IR1</td>\n",
       "      <td>Lvl</td>\n",
       "      <td>AllPub</td>\n",
       "      <td>Inside</td>\n",
       "      <td>...</td>\n",
       "      <td>0</td>\n",
       "      <td>0</td>\n",
       "      <td>NaN</td>\n",
       "      <td>NaN</td>\n",
       "      <td>NaN</td>\n",
       "      <td>0</td>\n",
       "      <td>3</td>\n",
       "      <td>2010</td>\n",
       "      <td>WD</td>\n",
       "      <td>138500</td>\n",
       "    </tr>\n",
       "  </tbody>\n",
       "</table>\n",
       "<p>5 rows × 78 columns</p>\n",
       "</div>"
      ],
      "text/plain": [
       "   MS_SubClass MS_Zoning  Lot_Frontage  Lot_Area Street Alley Lot_Shape  \\\n",
       "0           60        RL       69.0552     13517   Pave   NaN       IR1   \n",
       "1           60        RL       43.0000     11492   Pave   NaN       IR1   \n",
       "2           20        RL       68.0000      7922   Pave   NaN       Reg   \n",
       "3           60        RL       73.0000      9802   Pave   NaN       Reg   \n",
       "4           50        RL       82.0000     14235   Pave   NaN       IR1   \n",
       "\n",
       "  Land_Contour Utilities Lot_Config  ... Screen_Porch Pool_Area Pool_QC Fence  \\\n",
       "0          Lvl    AllPub    CulDSac  ...            0         0     NaN   NaN   \n",
       "1          Lvl    AllPub    CulDSac  ...            0         0     NaN   NaN   \n",
       "2          Lvl    AllPub     Inside  ...            0         0     NaN   NaN   \n",
       "3          Lvl    AllPub     Inside  ...            0         0     NaN   NaN   \n",
       "4          Lvl    AllPub     Inside  ...            0         0     NaN   NaN   \n",
       "\n",
       "  Misc_Feature Misc_Val  Mo_Sold  Yr_Sold  Sale_Type  SalePrice  \n",
       "0          NaN        0        3     2010        WD      130500  \n",
       "1          NaN        0        4     2009        WD      220000  \n",
       "2          NaN        0        1     2010        WD      109000  \n",
       "3          NaN        0        4     2010        WD      174000  \n",
       "4          NaN        0        3     2010        WD      138500  \n",
       "\n",
       "[5 rows x 78 columns]"
      ]
     },
     "execution_count": 70,
     "metadata": {},
     "output_type": "execute_result"
    }
   ],
   "source": [
    "train_df[null_mask['Fence_mask']].head()"
   ]
  },
  {
   "cell_type": "markdown",
   "metadata": {},
   "source": [
    "Houses with null values as their Fence values must not have a fence. I will replace the null values with 'NA' which stands for 'No Fence'."
   ]
  },
  {
   "cell_type": "code",
   "execution_count": 71,
   "metadata": {},
   "outputs": [],
   "source": [
    "no_fence_houses = train_df[null_mask['Fence_mask']].index\n",
    "\n",
    "for house in no_fence_houses:\n",
    "    train_df.at[house, 'Fence'] = 'NA'"
   ]
  },
  {
   "cell_type": "markdown",
   "metadata": {},
   "source": [
    "**Removing Alley Nulls**"
   ]
  },
  {
   "cell_type": "code",
   "execution_count": 72,
   "metadata": {
    "scrolled": true
   },
   "outputs": [
    {
     "name": "stdout",
     "output_type": "stream",
     "text": [
      "Pool_QC: 2042\n",
      "Misc_Feature: 1986\n",
      "Alley: 1911\n",
      "\n",
      "There are 3 predictor variables with null values.\n"
     ]
    }
   ],
   "source": [
    "null_mask = null_checker()"
   ]
  },
  {
   "cell_type": "markdown",
   "metadata": {},
   "source": [
    "Houses with null values as their Alley values must not have a Alley. I will replace the null values with 'NA' which stands for 'No alley access'."
   ]
  },
  {
   "cell_type": "code",
   "execution_count": 73,
   "metadata": {},
   "outputs": [],
   "source": [
    "no_alley_houses = train_df[null_mask['Alley_mask']].index\n",
    "\n",
    "for house in no_alley_houses:\n",
    "    train_df.at[house, 'Alley'] = 'NA'"
   ]
  },
  {
   "cell_type": "markdown",
   "metadata": {},
   "source": [
    "**Removing Miscellaneous Features**"
   ]
  },
  {
   "cell_type": "code",
   "execution_count": 74,
   "metadata": {},
   "outputs": [
    {
     "name": "stdout",
     "output_type": "stream",
     "text": [
      "Pool_QC: 2042\n",
      "Misc_Feature: 1986\n",
      "\n",
      "There are 2 predictor variables with null values.\n"
     ]
    }
   ],
   "source": [
    "null_mask = null_checker()"
   ]
  },
  {
   "cell_type": "markdown",
   "metadata": {},
   "source": [
    "Houses with null values as their Misc Feature values do not have any other miscellaneous features. I will replace the null values with 'NA' which stands for 'No other misc feature'."
   ]
  },
  {
   "cell_type": "code",
   "execution_count": 75,
   "metadata": {},
   "outputs": [],
   "source": [
    "no_misc_houses = train_df[null_mask['Misc_Feature_mask']].index\n",
    "\n",
    "for house in no_misc_houses:\n",
    "    train_df.at[house, 'Misc_Feature'] = 'NA'"
   ]
  },
  {
   "cell_type": "markdown",
   "metadata": {},
   "source": [
    "**Removing Pool Features**"
   ]
  },
  {
   "cell_type": "code",
   "execution_count": 76,
   "metadata": {},
   "outputs": [
    {
     "name": "stdout",
     "output_type": "stream",
     "text": [
      "Pool_QC: 2042\n",
      "\n",
      "There is 1 predictor variable with null values.\n"
     ]
    }
   ],
   "source": [
    "null_mask = null_checker()"
   ]
  },
  {
   "cell_type": "code",
   "execution_count": 77,
   "metadata": {},
   "outputs": [
    {
     "data": {
      "text/html": [
       "<div>\n",
       "<style scoped>\n",
       "    .dataframe tbody tr th:only-of-type {\n",
       "        vertical-align: middle;\n",
       "    }\n",
       "\n",
       "    .dataframe tbody tr th {\n",
       "        vertical-align: top;\n",
       "    }\n",
       "\n",
       "    .dataframe thead th {\n",
       "        text-align: right;\n",
       "    }\n",
       "</style>\n",
       "<table border=\"1\" class=\"dataframe\">\n",
       "  <thead>\n",
       "    <tr style=\"text-align: right;\">\n",
       "      <th></th>\n",
       "      <th>Pool_QC</th>\n",
       "      <th>Pool_Area</th>\n",
       "    </tr>\n",
       "  </thead>\n",
       "  <tbody>\n",
       "    <tr>\n",
       "      <th>0</th>\n",
       "      <td>NaN</td>\n",
       "      <td>0</td>\n",
       "    </tr>\n",
       "    <tr>\n",
       "      <th>1</th>\n",
       "      <td>NaN</td>\n",
       "      <td>0</td>\n",
       "    </tr>\n",
       "    <tr>\n",
       "      <th>2</th>\n",
       "      <td>NaN</td>\n",
       "      <td>0</td>\n",
       "    </tr>\n",
       "    <tr>\n",
       "      <th>3</th>\n",
       "      <td>NaN</td>\n",
       "      <td>0</td>\n",
       "    </tr>\n",
       "    <tr>\n",
       "      <th>4</th>\n",
       "      <td>NaN</td>\n",
       "      <td>0</td>\n",
       "    </tr>\n",
       "  </tbody>\n",
       "</table>\n",
       "</div>"
      ],
      "text/plain": [
       "  Pool_QC  Pool_Area\n",
       "0     NaN          0\n",
       "1     NaN          0\n",
       "2     NaN          0\n",
       "3     NaN          0\n",
       "4     NaN          0"
      ]
     },
     "execution_count": 77,
     "metadata": {},
     "output_type": "execute_result"
    }
   ],
   "source": [
    "train_df[null_mask['Pool_QC_mask']][['Pool_QC','Pool_Area']].head()"
   ]
  },
  {
   "cell_type": "code",
   "execution_count": 78,
   "metadata": {},
   "outputs": [
    {
     "data": {
      "text/plain": [
       "2042"
      ]
     },
     "execution_count": 78,
     "metadata": {},
     "output_type": "execute_result"
    }
   ],
   "source": [
    "len(train_df[(null_mask['Pool_QC_mask']) & (train_df['Pool_Area'] == 0)])"
   ]
  },
  {
   "cell_type": "markdown",
   "metadata": {},
   "source": [
    "There are 2042 houses that both have null values as their Pool quality values and 0 square feet as their pool area values. It is safe to mark their null Pool_QC values as 'NA' which stands for 'No Pool'."
   ]
  },
  {
   "cell_type": "code",
   "execution_count": 79,
   "metadata": {},
   "outputs": [],
   "source": [
    "no_pool_houses = train_df[null_mask['Pool_QC_mask']].index\n",
    "\n",
    "for house in no_pool_houses:\n",
    "    train_df.at[house,'Pool_QC'] = 'NA'"
   ]
  },
  {
   "cell_type": "code",
   "execution_count": 80,
   "metadata": {
    "scrolled": false
   },
   "outputs": [
    {
     "name": "stdout",
     "output_type": "stream",
     "text": [
      "There are no null values in your dataset. Hooray!\n"
     ]
    }
   ],
   "source": [
    "null_mask = null_checker()"
   ]
  },
  {
   "cell_type": "code",
   "execution_count": 81,
   "metadata": {},
   "outputs": [
    {
     "data": {
      "text/plain": [
       "0"
      ]
     },
     "execution_count": 81,
     "metadata": {},
     "output_type": "execute_result"
    }
   ],
   "source": [
    "train_df.isnull().sum().sum()#.sort_values(ascending=False)"
   ]
  },
  {
   "cell_type": "markdown",
   "metadata": {},
   "source": [
    "I am going to check for the lowest Sale Prices. "
   ]
  },
  {
   "cell_type": "code",
   "execution_count": 82,
   "metadata": {
    "scrolled": false
   },
   "outputs": [
    {
     "data": {
      "text/html": [
       "<div>\n",
       "<style scoped>\n",
       "    .dataframe tbody tr th:only-of-type {\n",
       "        vertical-align: middle;\n",
       "    }\n",
       "\n",
       "    .dataframe tbody tr th {\n",
       "        vertical-align: top;\n",
       "    }\n",
       "\n",
       "    .dataframe thead th {\n",
       "        text-align: right;\n",
       "    }\n",
       "</style>\n",
       "<table border=\"1\" class=\"dataframe\">\n",
       "  <thead>\n",
       "    <tr style=\"text-align: right;\">\n",
       "      <th></th>\n",
       "      <th>SalePrice</th>\n",
       "    </tr>\n",
       "  </thead>\n",
       "  <tbody>\n",
       "    <tr>\n",
       "      <th>1628</th>\n",
       "      <td>12789</td>\n",
       "    </tr>\n",
       "    <tr>\n",
       "      <th>183</th>\n",
       "      <td>13100</td>\n",
       "    </tr>\n",
       "    <tr>\n",
       "      <th>1309</th>\n",
       "      <td>34900</td>\n",
       "    </tr>\n",
       "    <tr>\n",
       "      <th>1292</th>\n",
       "      <td>35000</td>\n",
       "    </tr>\n",
       "    <tr>\n",
       "      <th>1518</th>\n",
       "      <td>35311</td>\n",
       "    </tr>\n",
       "  </tbody>\n",
       "</table>\n",
       "</div>"
      ],
      "text/plain": [
       "      SalePrice\n",
       "1628      12789\n",
       "183       13100\n",
       "1309      34900\n",
       "1292      35000\n",
       "1518      35311"
      ]
     },
     "execution_count": 82,
     "metadata": {},
     "output_type": "execute_result"
    }
   ],
   "source": [
    "train_df[['SalePrice']].sort_values('SalePrice').head(5)"
   ]
  },
  {
   "cell_type": "markdown",
   "metadata": {},
   "source": [
    "There are two houses that are around less than \\\\$14,000. I am going to drop them to prevent skewing in the model."
   ]
  },
  {
   "cell_type": "code",
   "execution_count": 83,
   "metadata": {},
   "outputs": [],
   "source": [
    "train_df = train_df[train_df['SalePrice'] > 14000]"
   ]
  },
  {
   "cell_type": "markdown",
   "metadata": {},
   "source": [
    "For the following `max_df` dataframe, I am looking at which variables have the highest count of unique values divided by the total number of values."
   ]
  },
  {
   "cell_type": "code",
   "execution_count": 84,
   "metadata": {
    "scrolled": false
   },
   "outputs": [],
   "source": [
    "max_list = []\n",
    "name = []\n",
    "for col in list(train_df.columns):\n",
    "    max_value = train_df[col].value_counts().max()/len(train_df)\n",
    "    max_list.append(max_value)\n",
    "    name.append(col)    "
   ]
  },
  {
   "cell_type": "code",
   "execution_count": 85,
   "metadata": {},
   "outputs": [],
   "source": [
    "max_df = pd.DataFrame({'Variable':name, 'Max_Value_Count' : max_list})"
   ]
  },
  {
   "cell_type": "code",
   "execution_count": 86,
   "metadata": {
    "scrolled": true
   },
   "outputs": [
    {
     "data": {
      "text/html": [
       "<div>\n",
       "<style scoped>\n",
       "    .dataframe tbody tr th:only-of-type {\n",
       "        vertical-align: middle;\n",
       "    }\n",
       "\n",
       "    .dataframe tbody tr th {\n",
       "        vertical-align: top;\n",
       "    }\n",
       "\n",
       "    .dataframe thead th {\n",
       "        text-align: right;\n",
       "    }\n",
       "</style>\n",
       "<table border=\"1\" class=\"dataframe\">\n",
       "  <thead>\n",
       "    <tr style=\"text-align: right;\">\n",
       "      <th></th>\n",
       "      <th>Variable</th>\n",
       "      <th>Max_Value_Count</th>\n",
       "    </tr>\n",
       "  </thead>\n",
       "  <tbody>\n",
       "    <tr>\n",
       "      <th>8</th>\n",
       "      <td>Utilities</td>\n",
       "      <td>0.999024</td>\n",
       "    </tr>\n",
       "    <tr>\n",
       "      <th>4</th>\n",
       "      <td>Street</td>\n",
       "      <td>0.996584</td>\n",
       "    </tr>\n",
       "    <tr>\n",
       "      <th>69</th>\n",
       "      <td>Pool_Area</td>\n",
       "      <td>0.995608</td>\n",
       "    </tr>\n",
       "    <tr>\n",
       "      <th>70</th>\n",
       "      <td>Pool_QC</td>\n",
       "      <td>0.995608</td>\n",
       "    </tr>\n",
       "    <tr>\n",
       "      <th>67</th>\n",
       "      <td>3Ssn_Porch</td>\n",
       "      <td>0.987311</td>\n",
       "    </tr>\n",
       "    <tr>\n",
       "      <th>21</th>\n",
       "      <td>Roof_Matl</td>\n",
       "      <td>0.987311</td>\n",
       "    </tr>\n",
       "    <tr>\n",
       "      <th>13</th>\n",
       "      <td>Condition_2</td>\n",
       "      <td>0.987311</td>\n",
       "    </tr>\n",
       "    <tr>\n",
       "      <th>38</th>\n",
       "      <td>Heating</td>\n",
       "      <td>0.984383</td>\n",
       "    </tr>\n",
       "    <tr>\n",
       "      <th>44</th>\n",
       "      <td>Low_Qual_Fin_SF</td>\n",
       "      <td>0.983895</td>\n",
       "    </tr>\n",
       "    <tr>\n",
       "      <th>73</th>\n",
       "      <td>Misc_Val</td>\n",
       "      <td>0.968277</td>\n",
       "    </tr>\n",
       "  </tbody>\n",
       "</table>\n",
       "</div>"
      ],
      "text/plain": [
       "           Variable  Max_Value_Count\n",
       "8         Utilities         0.999024\n",
       "4            Street         0.996584\n",
       "69        Pool_Area         0.995608\n",
       "70          Pool_QC         0.995608\n",
       "67       3Ssn_Porch         0.987311\n",
       "21        Roof_Matl         0.987311\n",
       "13      Condition_2         0.987311\n",
       "38          Heating         0.984383\n",
       "44  Low_Qual_Fin_SF         0.983895\n",
       "73         Misc_Val         0.968277"
      ]
     },
     "execution_count": 86,
     "metadata": {},
     "output_type": "execute_result"
    }
   ],
   "source": [
    "max_df.sort_values('Max_Value_Count', ascending = False).head(10)"
   ]
  },
  {
   "cell_type": "markdown",
   "metadata": {},
   "source": [
    "I am also going to drop the miscellaneous features because most of the values are 0. \n",
    "\n",
    "Now that the dataset is clean and has no nulls, I will move onto the exploratory data analysis portion and examine the the variable's distribution and correlation with the sale price."
   ]
  },
  {
   "cell_type": "code",
   "execution_count": 87,
   "metadata": {},
   "outputs": [],
   "source": [
    "train_df = train_df.drop('Misc_Val',axis=1)"
   ]
  },
  {
   "cell_type": "code",
   "execution_count": 88,
   "metadata": {},
   "outputs": [],
   "source": [
    "train_df.to_csv('../datasets/train_clean.csv', index = False)"
   ]
  },
  {
   "cell_type": "markdown",
   "metadata": {},
   "source": [
    "# Please go to Part 2: Exploratory Data Analysis"
   ]
  }
 ],
 "metadata": {
  "kernelspec": {
   "display_name": "Python 3",
   "language": "python",
   "name": "python3"
  },
  "language_info": {
   "codemirror_mode": {
    "name": "ipython",
    "version": 3
   },
   "file_extension": ".py",
   "mimetype": "text/x-python",
   "name": "python",
   "nbconvert_exporter": "python",
   "pygments_lexer": "ipython3",
   "version": "3.6.8"
  }
 },
 "nbformat": 4,
 "nbformat_minor": 2
}
