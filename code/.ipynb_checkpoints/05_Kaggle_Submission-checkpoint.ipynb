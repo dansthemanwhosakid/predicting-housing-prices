{
 "cells": [
  {
   "cell_type": "code",
   "execution_count": null,
   "metadata": {},
   "outputs": [],
   "source": []
  },
  {
   "cell_type": "markdown",
   "metadata": {},
   "source": [
    "# Project 2: Ames Housing Data - Kaggle Submission"
   ]
  },
  {
   "cell_type": "code",
   "execution_count": 1,
   "metadata": {},
   "outputs": [],
   "source": [
    "import pandas as pd\n",
    "import numpy as np\n",
    "import matplotlib.pyplot as plt\n",
    "import seaborn as sns\n",
    "from numpy.polynomial.polynomial import polyfit\n",
    "from scipy import stats\n",
    "import statsmodels.api as sm\n",
    "import string\n",
    "from sklearn.linear_model import Ridge, Lasso, ElasticNet, LinearRegression, RidgeCV, LassoCV, ElasticNetCV\n",
    "from sklearn.model_selection import train_test_split\n",
    "from sklearn.preprocessing import StandardScaler\n",
    "from sklearn.metrics import mean_squared_error, r2_score, mean_absolute_error, median_absolute_error\n",
    "from sklearn.feature_selection import VarianceThreshold\n",
    "from statistics import mode\n",
    "import string\n",
    "\n",
    "np.random.seed(3_0_0)\n",
    "\n",
    "DO = '#7D1B7E'\n",
    "%config InlineBackend.figure_format = 'retina'\n",
    "%matplotlib inline\n",
    "\n",
    "plt.style.use('fivethirtyeight')"
   ]
  },
  {
   "cell_type": "code",
   "execution_count": 2,
   "metadata": {},
   "outputs": [],
   "source": [
    "train_dummies = pd.read_csv('../datasets/train_dummies.csv', keep_default_na=False)"
   ]
  },
  {
   "cell_type": "markdown",
   "metadata": {},
   "source": [
    "I will utilize the lasso model with a threshold of 0.01 as my production model."
   ]
  },
  {
   "cell_type": "markdown",
   "metadata": {},
   "source": [
    "### Lasso Model"
   ]
  },
  {
   "cell_type": "code",
   "execution_count": 3,
   "metadata": {},
   "outputs": [
    {
     "name": "stderr",
     "output_type": "stream",
     "text": [
      "/anaconda3/lib/python3.6/site-packages/sklearn/model_selection/_split.py:2026: FutureWarning: From version 0.21, test_size will always complement train_size unless both are specified.\n",
      "  FutureWarning)\n"
     ]
    }
   ],
   "source": [
    "X = train_dummies.drop(columns = 'SalePrice', axis = 1)\n",
    "y = train_dummies['SalePrice']\n",
    "\n",
    "X_train, X_test, y_train, y_test = train_test_split(X,y, random_state= 42, train_size = 0.7);\n",
    "\n",
    "threshold = VarianceThreshold(.01)\n",
    "\n",
    "X_train_thresh = threshold.fit_transform(X_train)\n",
    "X_test_thresh = threshold.transform(X_test)\n",
    "\n",
    "ss = StandardScaler()\n",
    "X_train_sc = ss.fit_transform(X_train_thresh)\n",
    "X_test_sc = ss.transform(X_test_thresh)\n",
    "predictor_variables = X.columns[threshold.get_support()]\n",
    "\n",
    "lasso_cv = LassoCV(cv = 10)\n",
    "lasso_cv.fit(X_train_sc, y_train)\n",
    "   \n",
    "y_hat_lasso = lasso_cv.predict(X_test_sc)"
   ]
  },
  {
   "cell_type": "code",
   "execution_count": 4,
   "metadata": {},
   "outputs": [],
   "source": [
    "beta_df = pd.DataFrame({'Predictor Variables' : predictor_variables, 'Beta':lasso_cv.coef_})\n",
    "beta_df['Absolute_Beta'] = abs(beta_df['Beta'])\n",
    "beta_df = beta_df.sort_values('Absolute_Beta', ascending = False)\n",
    "beta_df = beta_df.reset_index(drop=True)\n",
    "beta_df = beta_df.set_index('Predictor Variables')\n",
    "\n",
    "model_col = list(beta_df.index)"
   ]
  },
  {
   "cell_type": "code",
   "execution_count": 5,
   "metadata": {},
   "outputs": [],
   "source": [
    "kaggle = pd.read_csv('../datasets/test.csv')"
   ]
  },
  {
   "cell_type": "code",
   "execution_count": 6,
   "metadata": {
    "scrolled": true
   },
   "outputs": [
    {
     "data": {
      "text/plain": [
       "(879, 80)"
      ]
     },
     "execution_count": 6,
     "metadata": {},
     "output_type": "execute_result"
    }
   ],
   "source": [
    "kaggle.shape"
   ]
  },
  {
   "cell_type": "markdown",
   "metadata": {},
   "source": [
    "The kaggle dataset contains 80 variables.\n",
    "\n",
    "I am going to clean up the kaggle dataset the same way I cleaned up the train.csv dataset and fit the dataset in the lasso model."
   ]
  },
  {
   "cell_type": "code",
   "execution_count": 7,
   "metadata": {},
   "outputs": [
    {
     "data": {
      "text/html": [
       "<div>\n",
       "<style scoped>\n",
       "    .dataframe tbody tr th:only-of-type {\n",
       "        vertical-align: middle;\n",
       "    }\n",
       "\n",
       "    .dataframe tbody tr th {\n",
       "        vertical-align: top;\n",
       "    }\n",
       "\n",
       "    .dataframe thead th {\n",
       "        text-align: right;\n",
       "    }\n",
       "</style>\n",
       "<table border=\"1\" class=\"dataframe\">\n",
       "  <thead>\n",
       "    <tr style=\"text-align: right;\">\n",
       "      <th></th>\n",
       "      <th>Id</th>\n",
       "      <th>PID</th>\n",
       "      <th>MS SubClass</th>\n",
       "      <th>MS Zoning</th>\n",
       "      <th>Lot Frontage</th>\n",
       "      <th>Lot Area</th>\n",
       "      <th>Street</th>\n",
       "      <th>Alley</th>\n",
       "      <th>Lot Shape</th>\n",
       "      <th>Land Contour</th>\n",
       "      <th>...</th>\n",
       "      <th>3Ssn Porch</th>\n",
       "      <th>Screen Porch</th>\n",
       "      <th>Pool Area</th>\n",
       "      <th>Pool QC</th>\n",
       "      <th>Fence</th>\n",
       "      <th>Misc Feature</th>\n",
       "      <th>Misc Val</th>\n",
       "      <th>Mo Sold</th>\n",
       "      <th>Yr Sold</th>\n",
       "      <th>Sale Type</th>\n",
       "    </tr>\n",
       "  </thead>\n",
       "  <tbody>\n",
       "    <tr>\n",
       "      <th>0</th>\n",
       "      <td>2658</td>\n",
       "      <td>902301120</td>\n",
       "      <td>190</td>\n",
       "      <td>RM</td>\n",
       "      <td>69.0</td>\n",
       "      <td>9142</td>\n",
       "      <td>Pave</td>\n",
       "      <td>Grvl</td>\n",
       "      <td>Reg</td>\n",
       "      <td>Lvl</td>\n",
       "      <td>...</td>\n",
       "      <td>0</td>\n",
       "      <td>0</td>\n",
       "      <td>0</td>\n",
       "      <td>NaN</td>\n",
       "      <td>NaN</td>\n",
       "      <td>NaN</td>\n",
       "      <td>0</td>\n",
       "      <td>4</td>\n",
       "      <td>2006</td>\n",
       "      <td>WD</td>\n",
       "    </tr>\n",
       "    <tr>\n",
       "      <th>1</th>\n",
       "      <td>2718</td>\n",
       "      <td>905108090</td>\n",
       "      <td>90</td>\n",
       "      <td>RL</td>\n",
       "      <td>NaN</td>\n",
       "      <td>9662</td>\n",
       "      <td>Pave</td>\n",
       "      <td>NaN</td>\n",
       "      <td>IR1</td>\n",
       "      <td>Lvl</td>\n",
       "      <td>...</td>\n",
       "      <td>0</td>\n",
       "      <td>0</td>\n",
       "      <td>0</td>\n",
       "      <td>NaN</td>\n",
       "      <td>NaN</td>\n",
       "      <td>NaN</td>\n",
       "      <td>0</td>\n",
       "      <td>8</td>\n",
       "      <td>2006</td>\n",
       "      <td>WD</td>\n",
       "    </tr>\n",
       "    <tr>\n",
       "      <th>2</th>\n",
       "      <td>2414</td>\n",
       "      <td>528218130</td>\n",
       "      <td>60</td>\n",
       "      <td>RL</td>\n",
       "      <td>58.0</td>\n",
       "      <td>17104</td>\n",
       "      <td>Pave</td>\n",
       "      <td>NaN</td>\n",
       "      <td>IR1</td>\n",
       "      <td>Lvl</td>\n",
       "      <td>...</td>\n",
       "      <td>0</td>\n",
       "      <td>0</td>\n",
       "      <td>0</td>\n",
       "      <td>NaN</td>\n",
       "      <td>NaN</td>\n",
       "      <td>NaN</td>\n",
       "      <td>0</td>\n",
       "      <td>9</td>\n",
       "      <td>2006</td>\n",
       "      <td>New</td>\n",
       "    </tr>\n",
       "    <tr>\n",
       "      <th>3</th>\n",
       "      <td>1989</td>\n",
       "      <td>902207150</td>\n",
       "      <td>30</td>\n",
       "      <td>RM</td>\n",
       "      <td>60.0</td>\n",
       "      <td>8520</td>\n",
       "      <td>Pave</td>\n",
       "      <td>NaN</td>\n",
       "      <td>Reg</td>\n",
       "      <td>Lvl</td>\n",
       "      <td>...</td>\n",
       "      <td>0</td>\n",
       "      <td>0</td>\n",
       "      <td>0</td>\n",
       "      <td>NaN</td>\n",
       "      <td>NaN</td>\n",
       "      <td>NaN</td>\n",
       "      <td>0</td>\n",
       "      <td>7</td>\n",
       "      <td>2007</td>\n",
       "      <td>WD</td>\n",
       "    </tr>\n",
       "    <tr>\n",
       "      <th>4</th>\n",
       "      <td>625</td>\n",
       "      <td>535105100</td>\n",
       "      <td>20</td>\n",
       "      <td>RL</td>\n",
       "      <td>NaN</td>\n",
       "      <td>9500</td>\n",
       "      <td>Pave</td>\n",
       "      <td>NaN</td>\n",
       "      <td>IR1</td>\n",
       "      <td>Lvl</td>\n",
       "      <td>...</td>\n",
       "      <td>0</td>\n",
       "      <td>185</td>\n",
       "      <td>0</td>\n",
       "      <td>NaN</td>\n",
       "      <td>NaN</td>\n",
       "      <td>NaN</td>\n",
       "      <td>0</td>\n",
       "      <td>7</td>\n",
       "      <td>2009</td>\n",
       "      <td>WD</td>\n",
       "    </tr>\n",
       "  </tbody>\n",
       "</table>\n",
       "<p>5 rows × 80 columns</p>\n",
       "</div>"
      ],
      "text/plain": [
       "     Id        PID  MS SubClass MS Zoning  Lot Frontage  Lot Area Street  \\\n",
       "0  2658  902301120          190        RM          69.0      9142   Pave   \n",
       "1  2718  905108090           90        RL           NaN      9662   Pave   \n",
       "2  2414  528218130           60        RL          58.0     17104   Pave   \n",
       "3  1989  902207150           30        RM          60.0      8520   Pave   \n",
       "4   625  535105100           20        RL           NaN      9500   Pave   \n",
       "\n",
       "  Alley Lot Shape Land Contour  ... 3Ssn Porch Screen Porch Pool Area Pool QC  \\\n",
       "0  Grvl       Reg          Lvl  ...          0            0         0     NaN   \n",
       "1   NaN       IR1          Lvl  ...          0            0         0     NaN   \n",
       "2   NaN       IR1          Lvl  ...          0            0         0     NaN   \n",
       "3   NaN       Reg          Lvl  ...          0            0         0     NaN   \n",
       "4   NaN       IR1          Lvl  ...          0          185         0     NaN   \n",
       "\n",
       "  Fence Misc Feature Misc Val Mo Sold  Yr Sold  Sale Type  \n",
       "0   NaN          NaN        0       4     2006        WD   \n",
       "1   NaN          NaN        0       8     2006        WD   \n",
       "2   NaN          NaN        0       9     2006        New  \n",
       "3   NaN          NaN        0       7     2007        WD   \n",
       "4   NaN          NaN        0       7     2009        WD   \n",
       "\n",
       "[5 rows x 80 columns]"
      ]
     },
     "execution_count": 7,
     "metadata": {},
     "output_type": "execute_result"
    }
   ],
   "source": [
    "kaggle.head()"
   ]
  },
  {
   "cell_type": "markdown",
   "metadata": {},
   "source": [
    "The column names should not have spaces in them, so as a pythonista, I am going to replace the spaces with underscores."
   ]
  },
  {
   "cell_type": "code",
   "execution_count": 8,
   "metadata": {},
   "outputs": [],
   "source": [
    "kaggle.columns = [name.replace(' ','_') for name in kaggle.columns]"
   ]
  },
  {
   "cell_type": "code",
   "execution_count": 9,
   "metadata": {},
   "outputs": [],
   "source": [
    "kaggle = kaggle.set_index('Id')"
   ]
  },
  {
   "cell_type": "code",
   "execution_count": 10,
   "metadata": {},
   "outputs": [],
   "source": [
    "kaggle.drop(['PID','Garage_Yr_Blt'], axis = 1, inplace=True)"
   ]
  },
  {
   "cell_type": "code",
   "execution_count": 11,
   "metadata": {},
   "outputs": [
    {
     "data": {
      "text/plain": [
       "object     42\n",
       "int64      33\n",
       "float64     2\n",
       "dtype: int64"
      ]
     },
     "execution_count": 11,
     "metadata": {},
     "output_type": "execute_result"
    }
   ],
   "source": [
    "kaggle.dtypes.sort_values().value_counts()"
   ]
  },
  {
   "cell_type": "markdown",
   "metadata": {},
   "source": [
    "## Removing Null Values"
   ]
  },
  {
   "cell_type": "code",
   "execution_count": 12,
   "metadata": {
    "scrolled": false
   },
   "outputs": [],
   "source": [
    "def null_checker():\n",
    "    null_vals = kaggle.isnull().sum().sort_values(ascending=False)\n",
    "    \n",
    "    null_in_col=[]\n",
    "    null_dict = {}\n",
    "    for pos in range(len(null_vals)):\n",
    "        if null_vals[pos] > 0:\n",
    "            name = null_vals.index[pos]\n",
    "            print(f'{name}: {null_vals[pos]}')\n",
    "            null_in_col.append(null_vals.index[pos])\n",
    "            null_dict[null_vals.index[pos]+'_mask'] = kaggle[null_vals.index[pos]].isnull()\n",
    "    \n",
    "    if len(null_in_col) > 1:\n",
    "        print(f'\\nThere are {len(null_in_col)} predictor variables with null values.')\n",
    "    elif len(null_in_col) == 1:\n",
    "        print(f'\\nThere is {len(null_in_col)} predictor variable with null values.')\n",
    "    elif len(null_in_col) == 0:\n",
    "        print('There are no null values in your dataset. Hooray!')\n",
    "        \n",
    "    return null_dict"
   ]
  },
  {
   "cell_type": "code",
   "execution_count": 13,
   "metadata": {
    "scrolled": true
   },
   "outputs": [
    {
     "name": "stdout",
     "output_type": "stream",
     "text": [
      "Pool_QC: 875\n",
      "Misc_Feature: 838\n",
      "Alley: 821\n",
      "Fence: 707\n",
      "Fireplace_Qu: 422\n",
      "Lot_Frontage: 160\n",
      "Garage_Finish: 45\n",
      "Garage_Cond: 45\n",
      "Garage_Qual: 45\n",
      "Garage_Type: 44\n",
      "BsmtFin_Type_2: 25\n",
      "Bsmt_Exposure: 25\n",
      "Bsmt_Cond: 25\n",
      "Bsmt_Qual: 25\n",
      "BsmtFin_Type_1: 25\n",
      "Mas_Vnr_Type: 1\n",
      "Electrical: 1\n",
      "Mas_Vnr_Area: 1\n",
      "\n",
      "There are 18 predictor variables with null values.\n"
     ]
    }
   ],
   "source": [
    "null_mask = null_checker()"
   ]
  },
  {
   "cell_type": "markdown",
   "metadata": {},
   "source": [
    "Starting with the predictor variable that has the lowest number of null values, I will examine each variable's null values and determine how to deal with them."
   ]
  },
  {
   "cell_type": "markdown",
   "metadata": {},
   "source": [
    "**Removing Garage Nulls**"
   ]
  },
  {
   "cell_type": "code",
   "execution_count": 14,
   "metadata": {},
   "outputs": [],
   "source": [
    "garage_nulls_mask = null_mask['Garage_Type_mask'] & null_mask['Garage_Cond_mask'] &null_mask['Garage_Finish_mask'] & null_mask['Garage_Qual_mask']"
   ]
  },
  {
   "cell_type": "code",
   "execution_count": 15,
   "metadata": {},
   "outputs": [],
   "source": [
    "garage_cols = list(kaggle.iloc[:,kaggle.columns.str.contains('Garage')].columns)"
   ]
  },
  {
   "cell_type": "code",
   "execution_count": 16,
   "metadata": {},
   "outputs": [],
   "source": [
    "no_garage_house = kaggle[garage_nulls_mask][garage_cols].index"
   ]
  },
  {
   "cell_type": "code",
   "execution_count": 17,
   "metadata": {},
   "outputs": [
    {
     "data": {
      "text/plain": [
       "Garage_Type      44\n",
       "Garage_Finish    44\n",
       "Garage_Cars       0\n",
       "Garage_Area       0\n",
       "Garage_Qual      44\n",
       "Garage_Cond      44\n",
       "dtype: int64"
      ]
     },
     "execution_count": 17,
     "metadata": {},
     "output_type": "execute_result"
    }
   ],
   "source": [
    "kaggle[garage_nulls_mask][garage_cols].isnull().sum()"
   ]
  },
  {
   "cell_type": "code",
   "execution_count": 18,
   "metadata": {},
   "outputs": [],
   "source": [
    "for house in no_garage_house:\n",
    "    for col in garage_cols:\n",
    "        if kaggle[col].dtype == object:\n",
    "            kaggle.at[house,col] = 'NA'"
   ]
  },
  {
   "cell_type": "code",
   "execution_count": 19,
   "metadata": {
    "scrolled": false
   },
   "outputs": [
    {
     "data": {
      "text/plain": [
       "Garage_Type      0\n",
       "Garage_Finish    1\n",
       "Garage_Cars      0\n",
       "Garage_Area      0\n",
       "Garage_Qual      1\n",
       "Garage_Cond      1\n",
       "dtype: int64"
      ]
     },
     "execution_count": 19,
     "metadata": {},
     "output_type": "execute_result"
    }
   ],
   "source": [
    "kaggle[garage_cols].isnull().sum()"
   ]
  },
  {
   "cell_type": "code",
   "execution_count": 20,
   "metadata": {
    "scrolled": true
   },
   "outputs": [],
   "source": [
    "kaggle[null_mask['Garage_Cond_mask'] &null_mask['Garage_Finish_mask'] & null_mask['Garage_Qual_mask']][garage_cols];"
   ]
  },
  {
   "cell_type": "code",
   "execution_count": 21,
   "metadata": {},
   "outputs": [],
   "source": [
    "kaggle.at[1357, 'Garage_Qual'] = 'NA'\n",
    "kaggle.at[1357, 'Garage_Cond'] = 'NA'\n",
    "kaggle.at[1357, 'Garage_Finish'] = 'NA'"
   ]
  },
  {
   "cell_type": "markdown",
   "metadata": {},
   "source": [
    "**Removing Basement Nulls**"
   ]
  },
  {
   "cell_type": "code",
   "execution_count": 22,
   "metadata": {},
   "outputs": [
    {
     "name": "stdout",
     "output_type": "stream",
     "text": [
      "Pool_QC: 875\n",
      "Misc_Feature: 838\n",
      "Alley: 821\n",
      "Fence: 707\n",
      "Fireplace_Qu: 422\n",
      "Lot_Frontage: 160\n",
      "Bsmt_Qual: 25\n",
      "BsmtFin_Type_1: 25\n",
      "Bsmt_Exposure: 25\n",
      "Bsmt_Cond: 25\n",
      "BsmtFin_Type_2: 25\n",
      "Electrical: 1\n",
      "Mas_Vnr_Area: 1\n",
      "Mas_Vnr_Type: 1\n",
      "\n",
      "There are 14 predictor variables with null values.\n"
     ]
    }
   ],
   "source": [
    "null_mask = null_checker()"
   ]
  },
  {
   "cell_type": "code",
   "execution_count": 23,
   "metadata": {},
   "outputs": [],
   "source": [
    "basement_cols = list(kaggle.iloc[:,kaggle.columns.str.contains('Bsmt')].columns)"
   ]
  },
  {
   "cell_type": "code",
   "execution_count": 24,
   "metadata": {
    "scrolled": true
   },
   "outputs": [],
   "source": [
    "all_basement_nulls_mask = null_mask['Bsmt_Qual_mask'] &null_mask['BsmtFin_Type_1_mask'] &null_mask['Bsmt_Exposure_mask'] & null_mask['Bsmt_Cond_mask'] & null_mask['BsmtFin_Type_2_mask'] \n",
    "no_bsmt = kaggle[all_basement_nulls_mask][basement_cols].index"
   ]
  },
  {
   "cell_type": "code",
   "execution_count": 25,
   "metadata": {},
   "outputs": [],
   "source": [
    "for house in no_bsmt:\n",
    "    for col in basement_cols:\n",
    "        if kaggle[col].dtype == object:\n",
    "            kaggle.at[house,col] = 'NA'"
   ]
  },
  {
   "cell_type": "code",
   "execution_count": 26,
   "metadata": {
    "scrolled": true
   },
   "outputs": [
    {
     "name": "stdout",
     "output_type": "stream",
     "text": [
      "Pool_QC: 875\n",
      "Misc_Feature: 838\n",
      "Alley: 821\n",
      "Fence: 707\n",
      "Fireplace_Qu: 422\n",
      "Lot_Frontage: 160\n",
      "Mas_Vnr_Type: 1\n",
      "Mas_Vnr_Area: 1\n",
      "Electrical: 1\n",
      "\n",
      "There are 9 predictor variables with null values.\n"
     ]
    }
   ],
   "source": [
    "null_mask = null_checker()"
   ]
  },
  {
   "cell_type": "markdown",
   "metadata": {},
   "source": [
    "**Removing Veneer Nulls**"
   ]
  },
  {
   "cell_type": "code",
   "execution_count": 27,
   "metadata": {},
   "outputs": [],
   "source": [
    "len(kaggle[null_mask['Mas_Vnr_Area_mask']&null_mask['Mas_Vnr_Type_mask']][['Mas_Vnr_Area','Mas_Vnr_Type']])\n",
    "kaggle['Mas_Vnr_Type'].unique()\n",
    "no_masonry_houses = kaggle[null_mask['Mas_Vnr_Area_mask']&null_mask['Mas_Vnr_Type_mask']][['Mas_Vnr_Area','Mas_Vnr_Type']].index\n",
    "\n",
    "for house in no_masonry_houses:\n",
    "    kaggle.at[house,'Mas_Vnr_Type'] = 'None'\n",
    "    kaggle.at[house,'Mas_Vnr_Area'] = 0"
   ]
  },
  {
   "cell_type": "code",
   "execution_count": 28,
   "metadata": {},
   "outputs": [
    {
     "name": "stdout",
     "output_type": "stream",
     "text": [
      "Pool_QC: 875\n",
      "Misc_Feature: 838\n",
      "Alley: 821\n",
      "Fence: 707\n",
      "Fireplace_Qu: 422\n",
      "Lot_Frontage: 160\n",
      "Electrical: 1\n",
      "\n",
      "There are 7 predictor variables with null values.\n"
     ]
    }
   ],
   "source": [
    "null_mask = null_checker()"
   ]
  },
  {
   "cell_type": "markdown",
   "metadata": {},
   "source": [
    "**Removing Electrical Nulls**"
   ]
  },
  {
   "cell_type": "markdown",
   "metadata": {},
   "source": [
    "There were no Electrical nulls in the train.csv dataset, however, we will impute the null with the dataset's mode. "
   ]
  },
  {
   "cell_type": "code",
   "execution_count": 29,
   "metadata": {},
   "outputs": [
    {
     "data": {
      "text/plain": [
       "0    SBrkr\n",
       "dtype: object"
      ]
     },
     "execution_count": 29,
     "metadata": {},
     "output_type": "execute_result"
    }
   ],
   "source": [
    "kaggle['Electrical'].mode()"
   ]
  },
  {
   "cell_type": "code",
   "execution_count": 30,
   "metadata": {},
   "outputs": [
    {
     "data": {
      "text/html": [
       "<div>\n",
       "<style scoped>\n",
       "    .dataframe tbody tr th:only-of-type {\n",
       "        vertical-align: middle;\n",
       "    }\n",
       "\n",
       "    .dataframe tbody tr th {\n",
       "        vertical-align: top;\n",
       "    }\n",
       "\n",
       "    .dataframe thead th {\n",
       "        text-align: right;\n",
       "    }\n",
       "</style>\n",
       "<table border=\"1\" class=\"dataframe\">\n",
       "  <thead>\n",
       "    <tr style=\"text-align: right;\">\n",
       "      <th></th>\n",
       "      <th>MS_SubClass</th>\n",
       "      <th>MS_Zoning</th>\n",
       "      <th>Lot_Frontage</th>\n",
       "      <th>Lot_Area</th>\n",
       "      <th>Street</th>\n",
       "      <th>Alley</th>\n",
       "      <th>Lot_Shape</th>\n",
       "      <th>Land_Contour</th>\n",
       "      <th>Utilities</th>\n",
       "      <th>Lot_Config</th>\n",
       "      <th>...</th>\n",
       "      <th>3Ssn_Porch</th>\n",
       "      <th>Screen_Porch</th>\n",
       "      <th>Pool_Area</th>\n",
       "      <th>Pool_QC</th>\n",
       "      <th>Fence</th>\n",
       "      <th>Misc_Feature</th>\n",
       "      <th>Misc_Val</th>\n",
       "      <th>Mo_Sold</th>\n",
       "      <th>Yr_Sold</th>\n",
       "      <th>Sale_Type</th>\n",
       "    </tr>\n",
       "    <tr>\n",
       "      <th>Id</th>\n",
       "      <th></th>\n",
       "      <th></th>\n",
       "      <th></th>\n",
       "      <th></th>\n",
       "      <th></th>\n",
       "      <th></th>\n",
       "      <th></th>\n",
       "      <th></th>\n",
       "      <th></th>\n",
       "      <th></th>\n",
       "      <th></th>\n",
       "      <th></th>\n",
       "      <th></th>\n",
       "      <th></th>\n",
       "      <th></th>\n",
       "      <th></th>\n",
       "      <th></th>\n",
       "      <th></th>\n",
       "      <th></th>\n",
       "      <th></th>\n",
       "      <th></th>\n",
       "    </tr>\n",
       "  </thead>\n",
       "  <tbody>\n",
       "    <tr>\n",
       "      <th>1578</th>\n",
       "      <td>80</td>\n",
       "      <td>RL</td>\n",
       "      <td>73.0</td>\n",
       "      <td>9735</td>\n",
       "      <td>Pave</td>\n",
       "      <td>NaN</td>\n",
       "      <td>Reg</td>\n",
       "      <td>Lvl</td>\n",
       "      <td>AllPub</td>\n",
       "      <td>Inside</td>\n",
       "      <td>...</td>\n",
       "      <td>0</td>\n",
       "      <td>0</td>\n",
       "      <td>0</td>\n",
       "      <td>NaN</td>\n",
       "      <td>NaN</td>\n",
       "      <td>NaN</td>\n",
       "      <td>0</td>\n",
       "      <td>5</td>\n",
       "      <td>2008</td>\n",
       "      <td>WD</td>\n",
       "    </tr>\n",
       "  </tbody>\n",
       "</table>\n",
       "<p>1 rows × 77 columns</p>\n",
       "</div>"
      ],
      "text/plain": [
       "      MS_SubClass MS_Zoning  Lot_Frontage  Lot_Area Street Alley Lot_Shape  \\\n",
       "Id                                                                           \n",
       "1578           80        RL          73.0      9735   Pave   NaN       Reg   \n",
       "\n",
       "     Land_Contour Utilities Lot_Config  ... 3Ssn_Porch Screen_Porch Pool_Area  \\\n",
       "Id                                      ...                                     \n",
       "1578          Lvl    AllPub     Inside  ...          0            0         0   \n",
       "\n",
       "     Pool_QC Fence Misc_Feature  Misc_Val  Mo_Sold  Yr_Sold  Sale_Type  \n",
       "Id                                                                      \n",
       "1578     NaN   NaN          NaN         0        5     2008        WD   \n",
       "\n",
       "[1 rows x 77 columns]"
      ]
     },
     "execution_count": 30,
     "metadata": {},
     "output_type": "execute_result"
    }
   ],
   "source": [
    "kaggle[null_mask['Electrical_mask']]"
   ]
  },
  {
   "cell_type": "code",
   "execution_count": 31,
   "metadata": {},
   "outputs": [],
   "source": [
    "kaggle.at[1578,'Electrical'] = kaggle['Electrical'].mode()"
   ]
  },
  {
   "cell_type": "code",
   "execution_count": 32,
   "metadata": {},
   "outputs": [
    {
     "name": "stdout",
     "output_type": "stream",
     "text": [
      "Pool_QC: 875\n",
      "Misc_Feature: 838\n",
      "Alley: 821\n",
      "Fence: 707\n",
      "Fireplace_Qu: 422\n",
      "Lot_Frontage: 160\n",
      "\n",
      "There are 6 predictor variables with null values.\n"
     ]
    }
   ],
   "source": [
    "null_mask = null_checker()"
   ]
  },
  {
   "cell_type": "markdown",
   "metadata": {},
   "source": [
    "**Removing Lot Frontage Nulls**"
   ]
  },
  {
   "cell_type": "code",
   "execution_count": 33,
   "metadata": {},
   "outputs": [],
   "source": [
    "lot_front_mean = kaggle['Lot_Frontage'].mean()"
   ]
  },
  {
   "cell_type": "code",
   "execution_count": 34,
   "metadata": {},
   "outputs": [],
   "source": [
    "no_lot_frontage_house = kaggle[null_mask['Lot_Frontage_mask']].index"
   ]
  },
  {
   "cell_type": "code",
   "execution_count": 35,
   "metadata": {},
   "outputs": [],
   "source": [
    "for house in no_lot_frontage_house:\n",
    "    kaggle.at[house,'Lot_Frontage'] = lot_front_mean"
   ]
  },
  {
   "cell_type": "code",
   "execution_count": 36,
   "metadata": {},
   "outputs": [
    {
     "name": "stdout",
     "output_type": "stream",
     "text": [
      "Pool_QC: 875\n",
      "Misc_Feature: 838\n",
      "Alley: 821\n",
      "Fence: 707\n",
      "Fireplace_Qu: 422\n",
      "\n",
      "There are 5 predictor variables with null values.\n"
     ]
    }
   ],
   "source": [
    "null_mask = null_checker()"
   ]
  },
  {
   "cell_type": "markdown",
   "metadata": {},
   "source": [
    "**Removing Fireplace Nulls**"
   ]
  },
  {
   "cell_type": "code",
   "execution_count": 37,
   "metadata": {},
   "outputs": [
    {
     "data": {
      "text/html": [
       "<div>\n",
       "<style scoped>\n",
       "    .dataframe tbody tr th:only-of-type {\n",
       "        vertical-align: middle;\n",
       "    }\n",
       "\n",
       "    .dataframe tbody tr th {\n",
       "        vertical-align: top;\n",
       "    }\n",
       "\n",
       "    .dataframe thead th {\n",
       "        text-align: right;\n",
       "    }\n",
       "</style>\n",
       "<table border=\"1\" class=\"dataframe\">\n",
       "  <thead>\n",
       "    <tr style=\"text-align: right;\">\n",
       "      <th></th>\n",
       "      <th>Fireplace_Qu</th>\n",
       "      <th>Fireplaces</th>\n",
       "    </tr>\n",
       "    <tr>\n",
       "      <th>Id</th>\n",
       "      <th></th>\n",
       "      <th></th>\n",
       "    </tr>\n",
       "  </thead>\n",
       "  <tbody>\n",
       "    <tr>\n",
       "      <th>2658</th>\n",
       "      <td>NaN</td>\n",
       "      <td>0</td>\n",
       "    </tr>\n",
       "    <tr>\n",
       "      <th>2718</th>\n",
       "      <td>NaN</td>\n",
       "      <td>0</td>\n",
       "    </tr>\n",
       "    <tr>\n",
       "      <th>1989</th>\n",
       "      <td>NaN</td>\n",
       "      <td>0</td>\n",
       "    </tr>\n",
       "    <tr>\n",
       "      <th>333</th>\n",
       "      <td>NaN</td>\n",
       "      <td>0</td>\n",
       "    </tr>\n",
       "    <tr>\n",
       "      <th>1327</th>\n",
       "      <td>NaN</td>\n",
       "      <td>0</td>\n",
       "    </tr>\n",
       "  </tbody>\n",
       "</table>\n",
       "</div>"
      ],
      "text/plain": [
       "     Fireplace_Qu  Fireplaces\n",
       "Id                           \n",
       "2658          NaN           0\n",
       "2718          NaN           0\n",
       "1989          NaN           0\n",
       "333           NaN           0\n",
       "1327          NaN           0"
      ]
     },
     "execution_count": 37,
     "metadata": {},
     "output_type": "execute_result"
    }
   ],
   "source": [
    "kaggle[null_mask['Fireplace_Qu_mask']][['Fireplace_Qu','Fireplaces']].head()"
   ]
  },
  {
   "cell_type": "code",
   "execution_count": 38,
   "metadata": {},
   "outputs": [
    {
     "name": "stdout",
     "output_type": "stream",
     "text": [
      "422\n",
      "422\n"
     ]
    }
   ],
   "source": [
    "print(len(kaggle[kaggle['Fireplaces'] == 0]['Fireplace_Qu']))\n",
    "print(len(kaggle[null_mask['Fireplace_Qu_mask']]['Fireplaces']))\n",
    "no_fireplace_houses = kaggle[null_mask['Fireplace_Qu_mask']].index\n",
    "\n",
    "for house in no_fireplace_houses:\n",
    "    kaggle.at[house,'Fireplace_Qu'] = 'NA'"
   ]
  },
  {
   "cell_type": "code",
   "execution_count": 39,
   "metadata": {
    "scrolled": true
   },
   "outputs": [
    {
     "name": "stdout",
     "output_type": "stream",
     "text": [
      "Pool_QC: 875\n",
      "Misc_Feature: 838\n",
      "Alley: 821\n",
      "Fence: 707\n",
      "\n",
      "There are 4 predictor variables with null values.\n"
     ]
    }
   ],
   "source": [
    "null_mask = null_checker()"
   ]
  },
  {
   "cell_type": "markdown",
   "metadata": {},
   "source": [
    "**Removing Fence Nulls**"
   ]
  },
  {
   "cell_type": "code",
   "execution_count": 40,
   "metadata": {},
   "outputs": [],
   "source": [
    "no_fence_houses = kaggle[null_mask['Fence_mask']].index\n",
    "\n",
    "for house in no_fence_houses:\n",
    "    kaggle.at[house, 'Fence'] = 'NA'"
   ]
  },
  {
   "cell_type": "code",
   "execution_count": 41,
   "metadata": {},
   "outputs": [
    {
     "name": "stdout",
     "output_type": "stream",
     "text": [
      "Pool_QC: 875\n",
      "Misc_Feature: 838\n",
      "Alley: 821\n",
      "\n",
      "There are 3 predictor variables with null values.\n"
     ]
    }
   ],
   "source": [
    "null_mask = null_checker()"
   ]
  },
  {
   "cell_type": "markdown",
   "metadata": {},
   "source": [
    "**Removing Alley Nulls**"
   ]
  },
  {
   "cell_type": "code",
   "execution_count": 42,
   "metadata": {},
   "outputs": [],
   "source": [
    "no_alley_houses = kaggle[null_mask['Alley_mask']].index\n",
    "\n",
    "for house in no_alley_houses:\n",
    "    kaggle.at[house, 'Alley'] = 'NA'"
   ]
  },
  {
   "cell_type": "markdown",
   "metadata": {},
   "source": [
    "**Removing Misc Nulls**"
   ]
  },
  {
   "cell_type": "code",
   "execution_count": 43,
   "metadata": {},
   "outputs": [],
   "source": [
    "no_misc_houses = kaggle[null_mask['Misc_Feature_mask']].index\n",
    "\n",
    "for house in no_misc_houses:\n",
    "    kaggle.at[house, 'Misc_Feature'] = 'NA'"
   ]
  },
  {
   "cell_type": "markdown",
   "metadata": {},
   "source": [
    "**Removing Pool Nulls**"
   ]
  },
  {
   "cell_type": "code",
   "execution_count": 44,
   "metadata": {},
   "outputs": [
    {
     "name": "stdout",
     "output_type": "stream",
     "text": [
      "Pool_QC: 875\n",
      "\n",
      "There is 1 predictor variable with null values.\n"
     ]
    }
   ],
   "source": [
    "null_mask = null_checker()"
   ]
  },
  {
   "cell_type": "code",
   "execution_count": 45,
   "metadata": {},
   "outputs": [
    {
     "data": {
      "text/plain": [
       "875"
      ]
     },
     "execution_count": 45,
     "metadata": {},
     "output_type": "execute_result"
    }
   ],
   "source": [
    "len(kaggle[(null_mask['Pool_QC_mask']) & (kaggle['Pool_Area'] == 0)])"
   ]
  },
  {
   "cell_type": "code",
   "execution_count": 46,
   "metadata": {},
   "outputs": [],
   "source": [
    "no_pool_houses = kaggle[null_mask['Pool_QC_mask']].index\n",
    "\n",
    "for house in no_pool_houses:\n",
    "    kaggle.at[house,'Pool_QC'] = 'NA'"
   ]
  },
  {
   "cell_type": "code",
   "execution_count": 47,
   "metadata": {},
   "outputs": [
    {
     "name": "stdout",
     "output_type": "stream",
     "text": [
      "There are no null values in your dataset. Hooray!\n"
     ]
    }
   ],
   "source": [
    "null_mask = null_checker()"
   ]
  },
  {
   "cell_type": "code",
   "execution_count": 48,
   "metadata": {},
   "outputs": [],
   "source": [
    "MS_SubClass_dict = {key:value for key,value in zip(sorted(kaggle['MS_SubClass'].unique()),string.ascii_lowercase)}\n",
    "kaggle['MS_SubClass'] = kaggle['MS_SubClass'].map(MS_SubClass_dict);\n",
    "kaggle['MS_SubClass'] = kaggle['MS_SubClass'].astype('object');"
   ]
  },
  {
   "cell_type": "code",
   "execution_count": 49,
   "metadata": {},
   "outputs": [],
   "source": [
    "kaggle = kaggle.drop('Misc_Val',axis=1)"
   ]
  },
  {
   "cell_type": "code",
   "execution_count": 50,
   "metadata": {
    "scrolled": false
   },
   "outputs": [
    {
     "data": {
      "text/plain": [
       "0"
      ]
     },
     "execution_count": 50,
     "metadata": {},
     "output_type": "execute_result"
    }
   ],
   "source": [
    "kaggle.isnull().sum().sum()"
   ]
  },
  {
   "cell_type": "markdown",
   "metadata": {},
   "source": [
    "**Organizing Kaggle Dataset Columns**"
   ]
  },
  {
   "cell_type": "code",
   "execution_count": 51,
   "metadata": {},
   "outputs": [],
   "source": [
    "kaggle.to_csv('../datasets/kaggle_clean.csv', index = True)"
   ]
  },
  {
   "cell_type": "code",
   "execution_count": 52,
   "metadata": {},
   "outputs": [],
   "source": [
    "kaggle = pd.read_csv('../datasets/kaggle_clean.csv', keep_default_na=False)"
   ]
  },
  {
   "cell_type": "code",
   "execution_count": 53,
   "metadata": {
    "scrolled": true
   },
   "outputs": [
    {
     "data": {
      "text/plain": [
       "object     43\n",
       "int64      32\n",
       "float64     2\n",
       "dtype: int64"
      ]
     },
     "execution_count": 53,
     "metadata": {},
     "output_type": "execute_result"
    }
   ],
   "source": [
    "kaggle.dtypes.value_counts()"
   ]
  },
  {
   "cell_type": "code",
   "execution_count": 54,
   "metadata": {},
   "outputs": [
    {
     "data": {
      "text/plain": [
       "Index(['Lot_Frontage', 'Lot_Area', 'Overall_Qual', 'Overall_Cond',\n",
       "       'Year_Built', 'Year_Remod/Add', 'Mas_Vnr_Area', 'BsmtFin_SF_1',\n",
       "       'BsmtFin_SF_2', 'Bsmt_Unf_SF',\n",
       "       ...\n",
       "       'Misc_Feature_TenC', 'Sale_Type_COD', 'Sale_Type_CWD', 'Sale_Type_Con',\n",
       "       'Sale_Type_ConLD', 'Sale_Type_ConLI', 'Sale_Type_ConLw',\n",
       "       'Sale_Type_New', 'Sale_Type_Oth', 'Sale_Type_WD '],\n",
       "      dtype='object', length=317)"
      ]
     },
     "execution_count": 54,
     "metadata": {},
     "output_type": "execute_result"
    }
   ],
   "source": [
    "train_dummies.columns"
   ]
  },
  {
   "cell_type": "code",
   "execution_count": 55,
   "metadata": {},
   "outputs": [],
   "source": [
    "kaggle_dummies = pd.get_dummies(kaggle)"
   ]
  },
  {
   "cell_type": "code",
   "execution_count": 56,
   "metadata": {},
   "outputs": [],
   "source": [
    "kaggle_dummies = kaggle_dummies.set_index('Id')"
   ]
  },
  {
   "cell_type": "markdown",
   "metadata": {},
   "source": [
    "The following variables are in the `train_dummies` dataframe but not in the `kaggle_dummies` dataframe. As a result, the variables will be added to the `kaggle_dummmies` with values of 0."
   ]
  },
  {
   "cell_type": "code",
   "execution_count": 57,
   "metadata": {},
   "outputs": [
    {
     "data": {
      "text/plain": [
       "{'Bsmt_Cond_Ex',\n",
       " 'Bsmt_Cond_Po',\n",
       " 'Condition_2_Artery',\n",
       " 'Condition_2_RRAe',\n",
       " 'Condition_2_RRAn',\n",
       " 'Condition_2_RRNn',\n",
       " 'Electrical_Mix',\n",
       " 'Exterior_1st_CBlock',\n",
       " 'Exterior_1st_ImStucc',\n",
       " 'Exterior_1st_Stone',\n",
       " 'Exterior_2nd_Stone',\n",
       " 'Functional_Sal',\n",
       " 'Functional_Sev',\n",
       " 'Garage_Qual_Ex',\n",
       " 'Heating_OthW',\n",
       " 'Heating_QC_Po',\n",
       " 'Heating_Wall',\n",
       " 'MS_SubClass_p',\n",
       " 'MS_Zoning_A (agr)',\n",
       " 'Misc_Feature_Elev',\n",
       " 'Misc_Feature_TenC',\n",
       " 'Neighborhood_GrnHill',\n",
       " 'Neighborhood_Landmrk',\n",
       " 'Pool_QC_Fa',\n",
       " 'Pool_QC_Gd',\n",
       " 'Roof_Matl_ClyTile',\n",
       " 'Roof_Matl_Membran',\n",
       " 'SalePrice',\n",
       " 'Utilities_NoSeWa'}"
      ]
     },
     "execution_count": 57,
     "metadata": {},
     "output_type": "execute_result"
    }
   ],
   "source": [
    "set(train_dummies.columns).difference(kaggle_dummies.columns)"
   ]
  },
  {
   "cell_type": "code",
   "execution_count": 58,
   "metadata": {},
   "outputs": [],
   "source": [
    "train_dummies = train_dummies.drop('SalePrice',1)"
   ]
  },
  {
   "cell_type": "code",
   "execution_count": 59,
   "metadata": {},
   "outputs": [],
   "source": [
    "columns_not_in_kaggle = ['Exterior_1st_ImStucc', 'Functional_Sev', 'Electrical_Mix', 'Exterior_1st_CBlock', 'Roof_Matl_ClyTile', 'Misc_Feature_TenC', 'Bsmt_Cond_Ex', 'Condition_2_RRNn', 'SalePrice', 'MS_SubClass_p', 'Neighborhood_GrnHill', 'Exterior_1st_Stone', 'Utilities_NoSeWa', 'Heating_Wall', 'Bsmt_Cond_Po', 'Garage_Qual_Ex', 'Heating_QC_Po', 'Misc_Feature_Elev', 'Heating_OthW', 'MS_Zoning_A (agr)', 'Condition_2_RRAn', 'Neighborhood_Landmrk', 'Roof_Matl_Membran', 'Condition_2_RRAe', 'Condition_2_Artery', 'Exterior_2nd_Stone', 'Pool_QC_Fa', 'Functional_Sal', 'Pool_QC_Gd', 'MS_SubClass_b', 'MS_SubClass_m', 'MS_SubClass_k', 'MS_SubClass_l', 'MS_SubClass_j', 'MS_SubClass_f', 'MS_SubClass_a', 'MS_SubClass_g', 'MS_SubClass_i', 'MS_SubClass_e', 'MS_SubClass_o', 'MS_SubClass_d', 'MS_SubClass_h', 'MS_SubClass_n', 'MS_SubClass_c'] \n",
    "for col in columns_not_in_kaggle:\n",
    "    kaggle_dummies[col] = 0"
   ]
  },
  {
   "cell_type": "markdown",
   "metadata": {},
   "source": [
    "I will now remove columns from the `kaggle_dummies` that are not in the `train_dummies` columns because those predictor variables were not included in the lasso model to predict the sale price."
   ]
  },
  {
   "cell_type": "code",
   "execution_count": 60,
   "metadata": {
    "scrolled": true
   },
   "outputs": [],
   "source": [
    "remove_from_kaggle = list(set(kaggle_dummies.columns).difference(train_dummies.columns))"
   ]
  },
  {
   "cell_type": "code",
   "execution_count": 61,
   "metadata": {},
   "outputs": [],
   "source": [
    "kaggle_dummies = kaggle_dummies.drop(remove_from_kaggle, axis = 1)"
   ]
  },
  {
   "cell_type": "markdown",
   "metadata": {},
   "source": [
    "Setting the `kaggle_dummies` column order the same as `train_dummies`'s."
   ]
  },
  {
   "cell_type": "code",
   "execution_count": 62,
   "metadata": {},
   "outputs": [],
   "source": [
    "kaggle_dummies = kaggle_dummies[train_dummies.columns]"
   ]
  },
  {
   "cell_type": "code",
   "execution_count": 63,
   "metadata": {},
   "outputs": [],
   "source": [
    "X = kaggle_dummies[model_col]"
   ]
  },
  {
   "cell_type": "markdown",
   "metadata": {},
   "source": [
    "Scaling the data, inputting the data into the lasso model, and predicting the sale prices based on the `kaggle_dummies` predictor variables."
   ]
  },
  {
   "cell_type": "code",
   "execution_count": 64,
   "metadata": {
    "scrolled": false
   },
   "outputs": [],
   "source": [
    "ss = StandardScaler()\n",
    "X_sc = ss.fit_transform(X)\n",
    "\n",
    "predictions = lasso_cv.predict(X_sc)"
   ]
  },
  {
   "cell_type": "code",
   "execution_count": 65,
   "metadata": {
    "scrolled": true
   },
   "outputs": [],
   "source": [
    "submission = pd.DataFrame(predictions, index= kaggle_dummies.index, columns=['SalePrice'])\n",
    "submission.sort_index(inplace=True)"
   ]
  },
  {
   "cell_type": "code",
   "execution_count": 66,
   "metadata": {},
   "outputs": [
    {
     "data": {
      "text/html": [
       "<div>\n",
       "<style scoped>\n",
       "    .dataframe tbody tr th:only-of-type {\n",
       "        vertical-align: middle;\n",
       "    }\n",
       "\n",
       "    .dataframe tbody tr th {\n",
       "        vertical-align: top;\n",
       "    }\n",
       "\n",
       "    .dataframe thead th {\n",
       "        text-align: right;\n",
       "    }\n",
       "</style>\n",
       "<table border=\"1\" class=\"dataframe\">\n",
       "  <thead>\n",
       "    <tr style=\"text-align: right;\">\n",
       "      <th></th>\n",
       "      <th>SalePrice</th>\n",
       "    </tr>\n",
       "    <tr>\n",
       "      <th>Id</th>\n",
       "      <th></th>\n",
       "    </tr>\n",
       "  </thead>\n",
       "  <tbody>\n",
       "    <tr>\n",
       "      <th>2</th>\n",
       "      <td>179676.512762</td>\n",
       "    </tr>\n",
       "    <tr>\n",
       "      <th>4</th>\n",
       "      <td>-246970.272831</td>\n",
       "    </tr>\n",
       "    <tr>\n",
       "      <th>6</th>\n",
       "      <td>-252388.642107</td>\n",
       "    </tr>\n",
       "    <tr>\n",
       "      <th>7</th>\n",
       "      <td>-226029.981586</td>\n",
       "    </tr>\n",
       "    <tr>\n",
       "      <th>17</th>\n",
       "      <td>-200819.882311</td>\n",
       "    </tr>\n",
       "  </tbody>\n",
       "</table>\n",
       "</div>"
      ],
      "text/plain": [
       "        SalePrice\n",
       "Id               \n",
       "2   179676.512762\n",
       "4  -246970.272831\n",
       "6  -252388.642107\n",
       "7  -226029.981586\n",
       "17 -200819.882311"
      ]
     },
     "execution_count": 66,
     "metadata": {},
     "output_type": "execute_result"
    }
   ],
   "source": [
    "submission.head()"
   ]
  },
  {
   "cell_type": "code",
   "execution_count": 67,
   "metadata": {},
   "outputs": [],
   "source": [
    "submission.to_csv('../datasets/kaggle_submission.csv')"
   ]
  }
 ],
 "metadata": {
  "kernelspec": {
   "display_name": "Python 3",
   "language": "python",
   "name": "python3"
  },
  "language_info": {
   "codemirror_mode": {
    "name": "ipython",
    "version": 3
   },
   "file_extension": ".py",
   "mimetype": "text/x-python",
   "name": "python",
   "nbconvert_exporter": "python",
   "pygments_lexer": "ipython3",
   "version": "3.6.8"
  }
 },
 "nbformat": 4,
 "nbformat_minor": 2
}
